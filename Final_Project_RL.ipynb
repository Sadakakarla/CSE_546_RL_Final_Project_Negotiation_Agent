{
 "cells": [
  {
   "cell_type": "markdown",
   "id": "00d98118",
   "metadata": {},
   "source": [
    "# CSE 546: Reinforcement Learning (Final Project)\n",
    "## NegotiableAI - Adaptive Reinforcement Learning for Real-Time Buyer–Seller Negotiations"
   ]
  },
  {
   "cell_type": "markdown",
   "id": "71267417",
   "metadata": {},
   "source": [
    "## Submitted by:\n",
    "Sada Kakarla - 50605634 - sadakaka\n",
    "<br> Shivansh Gupta - 50604127 - sgupta67\n",
    "<br> Aditi Sinha - 50593917 - asinha25"
   ]
  },
  {
   "cell_type": "markdown",
   "id": "bd81f9cf",
   "metadata": {},
   "source": [
    "### Importing Libraries"
   ]
  },
  {
   "cell_type": "code",
   "execution_count": 97,
   "id": "c201bc53",
   "metadata": {},
   "outputs": [],
   "source": [
    "import gymnasium as gym\n",
    "from gymnasium import spaces \n",
    "import numpy as np\n",
    "import torch\n",
    "import torch.nn as nn\n",
    "from torch.distributions import Categorical\n",
    "import torch.optim as optim\n",
    "import torch.nn.functional as F\n",
    "from collections import deque\n",
    "import matplotlib.pyplot as plt\n",
    "\n",
    "import plotly.express as px\n",
    "import pandas as pd"
   ]
  },
  {
   "cell_type": "markdown",
   "id": "5eead4bf",
   "metadata": {},
   "source": [
    "### Defining the Negotiation Agent Environmnent "
   ]
  },
  {
   "cell_type": "code",
   "execution_count": null,
   "id": "15afa3fc",
   "metadata": {},
   "outputs": [],
   "source": [
    "# Defining the Negotiation Environment between the buyer and seller\n",
    "\n",
    "class Negotiation_Agent(gym.Env):\n",
    "    def __init__(self, seller_min_amt, buyer_reservation_price, max_rounds=20,\n",
    "                 initial_selling_price=None, gamma_seller=1.0, gamma_buyer=1.0,\n",
    "                 shaping_lambda=1.0, time_penalty=0.5):\n",
    "        super().__init__()\n",
    "        self.max_rounds              = max_rounds\n",
    "        self.seller_min_amt          = seller_min_amt\n",
    "        self.buyer_reservation_price = buyer_reservation_price\n",
    "        self.gamma_seller            = gamma_seller\n",
    "        self.gamma_buyer             = gamma_buyer\n",
    "        self.shaping_lambda          = shaping_lambda\n",
    "        self.time_penalty            = time_penalty\n",
    "\n",
    "        if initial_selling_price is None:\n",
    "            initial_selling_price = np.random.randint(\n",
    "                int(buyer_reservation_price), int(buyer_reservation_price * 1.5)\n",
    "            )\n",
    "        self.initial_selling_price = initial_selling_price\n",
    "\n",
    "        low  = np.array([seller_min_amt, 0, 0, 0], dtype=np.float32)\n",
    "        high = np.array([self.initial_selling_price, max_rounds, 1, 1], dtype=np.float32)\n",
    "        self.observation_space = spaces.Box(low=low, high=high, dtype=np.float32)\n",
    "        self.action_space      = spaces.Discrete(3)\n",
    "\n",
    "    def reset(self):\n",
    "        self.round             = 0\n",
    "        self.current_offer     = self.initial_selling_price\n",
    "        self.last_seller_offer = self.initial_selling_price\n",
    "        self.last_buyer_offer  = None\n",
    "        self.turn              = 0  # 0=Buyer, 1=Seller\n",
    "        self.deal_status       = False\n",
    "        return self._obs()\n",
    "\n",
    "    def _obs(self):\n",
    "        return np.array([\n",
    "            self.current_offer,\n",
    "            self.round,\n",
    "            self.turn,\n",
    "            float(self.deal_status)\n",
    "        ], dtype=np.float32)\n",
    "\n",
    "    def _buyer_potential(self, price):\n",
    "        return (self.initial_selling_price - price) / max(1, self.initial_selling_price - self.seller_min_amt)\n",
    "\n",
    "    def _seller_potential(self, price):\n",
    "        return (price - self.seller_min_amt) / max(1, self.initial_selling_price - self.seller_min_amt)\n",
    "\n",
    "    def step(self, action):\n",
    "        done   = False\n",
    "        reward = {'buyer': -self.time_penalty, 'seller': -self.time_penalty}\n",
    "\n",
    "        margin_seller = max(1, self.initial_selling_price - self.seller_min_amt)\n",
    "        margin_buyer  = max(1, self.buyer_reservation_price  - self.seller_min_amt)\n",
    "\n",
    "        # max rounds timeout\n",
    "        if self.round >= self.max_rounds:\n",
    "            done = True\n",
    "            reward['buyer'] = reward['seller'] = -10.0\n",
    "            return self._obs(), reward, done, {}\n",
    "\n",
    "        # ACCEPT\n",
    "        if action == 1:\n",
    "            if self.round < 1:\n",
    "                return self._obs(), {'buyer': -1.0,'seller':-1.0}, False, {}\n",
    "            done            = True\n",
    "            self.deal_status = True\n",
    "            final = self.current_offer\n",
    "            seller_pot = (final - self.seller_min_amt) / margin_seller\n",
    "            buyer_pot  = (self.buyer_reservation_price - final) / margin_buyer\n",
    "            reward['seller'] += self.gamma_seller * seller_pot\n",
    "            reward['buyer']  += self.gamma_buyer  * buyer_pot\n",
    "\n",
    "        # REJECT\n",
    "        elif action == 2:\n",
    "            done = True\n",
    "            reward['buyer'] = reward['seller'] = -5.0\n",
    "\n",
    "        # COUNTEROFFER\n",
    "        elif isinstance(action, tuple) and action[0] == \"Counteroffer\":\n",
    "            new_p = action[1]\n",
    "            # BUYER\n",
    "            if self.turn == 0:\n",
    "                if new_p >= self.current_offer or new_p < self.seller_min_amt or new_p > self.buyer_reservation_price:\n",
    "                    reward['buyer'] = -3.0\n",
    "                else:\n",
    "                    old_pot = (self.buyer_reservation_price - self.current_offer) / margin_buyer\n",
    "                    new_pot = (self.buyer_reservation_price - new_p) / margin_buyer\n",
    "                    reward['buyer'] += self.shaping_lambda * (new_pot - old_pot)\n",
    "                    self.current_offer    = new_p\n",
    "                    self.last_buyer_offer = new_p\n",
    "                    self.turn             = 1\n",
    "                    self.round           += 1\n",
    "            # SELLER\n",
    "            else:\n",
    "                if new_p <= self.current_offer or new_p > self.last_seller_offer:\n",
    "                    reward['seller'] = -3.0\n",
    "                else:\n",
    "                    old_pot = (self.current_offer - self.seller_min_amt) / margin_seller\n",
    "                    new_pot = (new_p - self.seller_min_amt) / margin_seller\n",
    "                    reward['seller'] += self.shaping_lambda * (new_pot - old_pot)\n",
    "                    self.current_offer      = new_p\n",
    "                    self.last_seller_offer  = new_p\n",
    "                    self.turn               = 0\n",
    "                    self.round             += 1\n",
    "\n",
    "        # INVALID OFFER\n",
    "        else:\n",
    "            reward['buyer'] = reward['seller'] = -2.0\n",
    "\n",
    "        # ran out of rounds \n",
    "        if self.round >= self.max_rounds and not done:\n",
    "            done = True\n",
    "            reward['buyer']  = -10.0\n",
    "            reward['seller'] = -20.0\n",
    "\n",
    "        return self._obs(), reward, done, {}\n",
    "\n",
    "    def render(self, mode='human'):\n",
    "        turn_str = \"Buyer\" if self.turn==0 else \"Seller\"\n",
    "        print(f\"Round {self.round}, Turn: {turn_str}, Offer: {self.current_offer}, Deal: {self.deal_status}\")"
   ]
  },
  {
   "cell_type": "markdown",
   "id": "9aa3815f",
   "metadata": {},
   "source": [
    "### Proximal Policy Optimization (PPO) Algorithm"
   ]
  },
  {
   "cell_type": "code",
   "execution_count": 56,
   "id": "3f374c5e",
   "metadata": {},
   "outputs": [],
   "source": [
    "# ─── 2) PPO Policy ─────────────────────────────────────────────────────────────\n",
    "class PPOPolicy(nn.Module):\n",
    "    def __init__(self, obs_dim, hidden_dim=64):\n",
    "        super().__init__()\n",
    "        self.backbone   = nn.Sequential(\n",
    "            nn.Linear(obs_dim, hidden_dim), nn.Tanh(),\n",
    "            nn.Linear(hidden_dim, hidden_dim), nn.Tanh(),\n",
    "        )\n",
    "        self.act_head   = nn.Linear(hidden_dim, 3)\n",
    "        self.price_head = nn.Linear(hidden_dim, 1)\n",
    "        self.val_head   = nn.Linear(hidden_dim, 1)\n",
    "\n",
    "    def forward(self, x):\n",
    "        h = self.backbone(x)\n",
    "        return self.act_head(h), self.price_head(h), self.val_head(h)\n",
    "\n",
    "    def get_action(self, obs, env):\n",
    "        logits, price_raw, value = self.forward(obs)\n",
    "        dist  = Categorical(logits=logits)\n",
    "\n",
    "        #(1) sample the discrete branch\n",
    "        a_idx = dist.sample()           # a 0-dim LongTensor in {0,1,2}\n",
    "        logp  = dist.log_prob(a_idx)    # log‐prob of that choice\n",
    "        ent   = dist.entropy()          # entropy of the discrete policy\n",
    "\n",
    "        # (2) build the env‐callable action\n",
    "        if a_idx.item() == 0:\n",
    "            # Counteroffer branch\n",
    "            cur = int(env.current_offer)\n",
    "            if env.turn == 0:\n",
    "                lo = env.seller_min_amt if env.last_buyer_offer is None else env.last_buyer_offer\n",
    "                hi = cur - 1\n",
    "            else:\n",
    "                lo = cur + 1\n",
    "                hi = env.last_seller_offer\n",
    "\n",
    "            if hi <= lo:\n",
    "                env_action = 1   # fallback to “Accept”\n",
    "            else:\n",
    "                frac  = torch.sigmoid(price_raw).item()\n",
    "                price = lo + int((hi - lo) * frac)\n",
    "                env_action = (\"Counteroffer\", price)\n",
    "        else:\n",
    "            # Accept (1) or Reject (2)\n",
    "            env_action = a_idx.item()\n",
    "\n",
    "        # (3) return both for training and for env.step\n",
    "        return env_action, a_idx, logp, value, ent\n"
   ]
  },
  {
   "cell_type": "code",
   "execution_count": 57,
   "id": "fdb581d8",
   "metadata": {},
   "outputs": [],
   "source": [
    "# GAE\n",
    "def compute_gae(rews, vals, gamma=0.99, lam=0.95):\n",
    "    gae  = 0.0\n",
    "    out  = []\n",
    "    vals = vals + [0.0]\n",
    "    for t in reversed(range(len(rews))):\n",
    "        δ   = rews[t] + gamma * vals[t+1] - vals[t]\n",
    "        gae = δ + gamma * lam * gae\n",
    "        out.insert(0, gae)\n",
    "    return out\n"
   ]
  },
  {
   "cell_type": "markdown",
   "id": "aa68d767",
   "metadata": {},
   "source": [
    "### Training the agent with PPO updates"
   ]
  },
  {
   "cell_type": "code",
   "execution_count": null,
   "id": "b6171539",
   "metadata": {},
   "outputs": [],
   "source": [
    "def trial_train(env, policy, opt,\n",
    "          batch_size=32,      # collect more episodes per update\n",
    "          epochs=3000,\n",
    "          gamma=0.99,\n",
    "          lam=0.95,\n",
    "          clip=0.2,\n",
    "          ent_coef=0.01,\n",
    "          value_coef=0.5,\n",
    "          K_epochs=4,         # do multiple passes over each batch\n",
    "          minibatch_size=64):\n",
    "    device = next(policy.parameters()).device\n",
    "\n",
    "    pol_losses, val_losses, avg_rews, success_rates = [], [], [], []\n",
    "\n",
    "    for ep in range(1, epochs+1):\n",
    "        \n",
    "        #  COLLECT ROLLOUT \n",
    "        obs_buf, act_buf, old_logp_buf = [], [], []\n",
    "        val_buf, rew_buf = [], []\n",
    "        ep_rewards = []\n",
    "        batch_successes = []\n",
    "\n",
    "        for _ in range(batch_size):\n",
    "            o, done = env.reset(), False\n",
    "            while not done:\n",
    "                low, high = env.observation_space.low, env.observation_space.high\n",
    "                o_n = (o - low) / (high - low + 1e-8)\n",
    "\n",
    "                t = torch.tensor(o_n, dtype=torch.float32, device=device)\n",
    "                action, a_idx, logp, value, ent = policy.get_action(t, env)\n",
    "                if isinstance(action, tuple):\n",
    "                    a_idx = torch.tensor(0, device=device)\n",
    "\n",
    "                obs_buf.append(t)\n",
    "                act_buf.append(a_idx)\n",
    "                old_logp_buf.append(logp)\n",
    "                val_buf.append(value.squeeze())\n",
    "\n",
    "                o2, rd, done, _ = env.step(action)\n",
    "                rew_buf.append(rd['buyer'])\n",
    "                o = o2\n",
    "\n",
    "            ep_rewards.append(sum(rew_buf[-env.max_rounds:]))\n",
    "            batch_successes.append(1 if env.deal_status else 0)\n",
    "\n",
    "        # batch‐tensors\n",
    "        obs_batch      = torch.stack(obs_buf)\n",
    "        old_logp_batch = torch.stack(old_logp_buf)\n",
    "        vals_batch     = torch.stack(val_buf)\n",
    "        act_batch      = torch.stack(act_buf)\n",
    "        rews           = rew_buf\n",
    "\n",
    "        # Compute Advantages & GAE\n",
    "        advantages = []\n",
    "        gae = 0.0\n",
    "        vs = vals_batch.tolist() + [0.0]\n",
    "        for i in reversed(range(len(rews))):\n",
    "            delta = rews[i] + gamma * vs[i+1] - vs[i]\n",
    "            gae = delta + gamma * lam * gae\n",
    "            advantages.insert(0, gae)\n",
    "        adv_batch = torch.tensor(advantages, dtype=torch.float32, device=device)\n",
    "        adv_batch = (adv_batch - adv_batch.mean()) / (adv_batch.std() + 1e-8)\n",
    "        ret_batch = adv_batch + vals_batch\n",
    "\n",
    "        success_rate = sum(batch_successes) / batch_size\n",
    "        success_rates.append(success_rate)\n",
    "        \n",
    "        # PPO Updates\n",
    "        total_ploss = 0.0\n",
    "        total_vloss = 0.0\n",
    "        total_ent   = 0.0\n",
    "\n",
    "        for _ in range(K_epochs):\n",
    "            perm = torch.randperm(obs_batch.size(0), device=device)\n",
    "            for start in range(0, obs_batch.size(0), minibatch_size):\n",
    "                idx        = perm[start:start+minibatch_size]\n",
    "                ob_mb      = obs_batch[idx]\n",
    "                old_lp_mb  = old_logp_batch[idx]\n",
    "                adv_mb     = adv_batch[idx]\n",
    "                ret_mb     = ret_batch[idx]\n",
    "                act_mb     = act_batch[idx]\n",
    "\n",
    "                logits, price_raw, val_pred = policy(ob_mb)\n",
    "                dist = Categorical(logits=logits)\n",
    "\n",
    "                new_logp = dist.log_prob(act_mb)\n",
    "                entropy  = dist.entropy().mean()\n",
    "\n",
    "                ratio = (new_logp - old_lp_mb).exp()\n",
    "                pg1   = ratio * adv_mb\n",
    "                pg2   = torch.clamp(ratio, 1-clip, 1+clip) * adv_mb\n",
    "                ploss = -torch.min(pg1, pg2).mean()\n",
    "\n",
    "                vpred        = val_pred.squeeze()\n",
    "                vals_mb      = vals_batch[idx]\n",
    "                vpred_clipped= vals_mb + (vpred - vals_mb).clamp(-clip, clip)\n",
    "                vloss1       = (ret_mb - vpred).pow(2)\n",
    "                vloss2       = (ret_mb - vpred_clipped).pow(2)\n",
    "                vloss        = 0.5 * torch.max(vloss1, vloss2).mean()\n",
    "\n",
    "                total_ploss += ploss\n",
    "                total_vloss += vloss\n",
    "                total_ent   += entropy\n",
    "\n",
    "        # single backward per epoch\n",
    "        loss = total_ploss + value_coef * total_vloss - ent_coef * total_ent\n",
    "        opt.zero_grad()\n",
    "        loss.backward()\n",
    "        torch.nn.utils.clip_grad_norm_(policy.parameters(), 0.5)\n",
    "        opt.step()\n",
    "\n",
    "        pol_losses.append(total_ploss.item())\n",
    "        val_losses.append(total_vloss.item())\n",
    "        # entropies.append(total_ent.item())\n",
    "        avg_rews.append(sum(ep_rewards) / batch_size)\n",
    "\n",
    "        if ep % 100 == 0:\n",
    "            print(f\"Ep {ep:04d} | P-loss {pol_losses[-1]:.3f}  \"\n",
    "                  f\"V-loss {val_losses[-1]:.3f}  Success_Rate {success_rate} \"\n",
    "                  f\"Avg_Reward {avg_rews[-1]:.3f} \"\n",
    "                  f\"Deal Status {env.deal_status}\")\n",
    "\n",
    "    return pol_losses, val_losses, avg_rews, success_rates"
   ]
  },
  {
   "cell_type": "code",
   "execution_count": 119,
   "id": "116331ed",
   "metadata": {},
   "outputs": [
    {
     "name": "stdout",
     "output_type": "stream",
     "text": [
      "Ep 0100 | P-loss -1.369  V-loss 5.792  Success_Rate 0.21875 Avg_Reward -19.726 Deal Status False\n",
      "Ep 0200 | P-loss -0.327  V-loss 3.686  Success_Rate 0.25 Avg_Reward -19.351 Deal Status False\n",
      "Ep 0300 | P-loss 1.298  V-loss 3.501  Success_Rate 0.3125 Avg_Reward -19.708 Deal Status True\n",
      "Ep 0400 | P-loss -3.088  V-loss 7.708  Success_Rate 0.21875 Avg_Reward -20.242 Deal Status False\n",
      "Ep 0500 | P-loss -0.041  V-loss 3.378  Success_Rate 0.28125 Avg_Reward -17.586 Deal Status False\n",
      "Ep 0600 | P-loss 0.042  V-loss 3.928  Success_Rate 0.15625 Avg_Reward -20.218 Deal Status False\n",
      "Ep 0700 | P-loss -0.195  V-loss 4.309  Success_Rate 0.21875 Avg_Reward -20.822 Deal Status False\n",
      "Ep 0800 | P-loss 0.000  V-loss 1.968  Success_Rate 0.34375 Avg_Reward -17.493 Deal Status False\n",
      "Ep 0900 | P-loss 0.551  V-loss 3.865  Success_Rate 0.125 Avg_Reward -24.729 Deal Status False\n",
      "Ep 1000 | P-loss -0.039  V-loss 3.781  Success_Rate 0.25 Avg_Reward -19.899 Deal Status True\n",
      "Ep 1100 | P-loss -0.686  V-loss 4.155  Success_Rate 0.15625 Avg_Reward -20.718 Deal Status False\n",
      "Ep 1200 | P-loss -0.167  V-loss 4.369  Success_Rate 0.21875 Avg_Reward -19.555 Deal Status False\n",
      "Ep 1300 | P-loss 0.306  V-loss 3.979  Success_Rate 0.375 Avg_Reward -17.343 Deal Status False\n",
      "Ep 1400 | P-loss -0.293  V-loss 3.769  Success_Rate 0.25 Avg_Reward -19.534 Deal Status True\n",
      "Ep 1500 | P-loss 0.852  V-loss 3.862  Success_Rate 0.28125 Avg_Reward -18.986 Deal Status True\n",
      "Ep 1600 | P-loss 1.015  V-loss 3.992  Success_Rate 0.25 Avg_Reward -20.355 Deal Status False\n",
      "Ep 1700 | P-loss 0.283  V-loss 3.362  Success_Rate 0.3125 Avg_Reward -17.474 Deal Status False\n",
      "Ep 1800 | P-loss 0.200  V-loss 3.316  Success_Rate 0.28125 Avg_Reward -17.729 Deal Status False\n",
      "Ep 1900 | P-loss -0.596  V-loss 4.120  Success_Rate 0.21875 Avg_Reward -21.682 Deal Status False\n",
      "Ep 2000 | P-loss 0.129  V-loss 4.097  Success_Rate 0.21875 Avg_Reward -19.260 Deal Status False\n",
      "Ep 2100 | P-loss 0.068  V-loss 3.650  Success_Rate 0.25 Avg_Reward -18.898 Deal Status False\n",
      "Ep 2200 | P-loss 0.875  V-loss 3.887  Success_Rate 0.21875 Avg_Reward -20.857 Deal Status True\n",
      "Ep 2300 | P-loss 0.765  V-loss 3.402  Success_Rate 0.25 Avg_Reward -19.511 Deal Status True\n",
      "Ep 2400 | P-loss -1.497  V-loss 4.106  Success_Rate 0.1875 Avg_Reward -22.515 Deal Status False\n",
      "Ep 2500 | P-loss -0.000  V-loss 1.969  Success_Rate 0.125 Avg_Reward -25.295 Deal Status False\n",
      "Ep 2600 | P-loss -0.000  V-loss 1.966  Success_Rate 0.1875 Avg_Reward -23.554 Deal Status False\n",
      "Ep 2700 | P-loss 0.145  V-loss 3.990  Success_Rate 0.1875 Avg_Reward -19.142 Deal Status False\n",
      "Ep 2800 | P-loss -0.285  V-loss 2.898  Success_Rate 0.28125 Avg_Reward -17.799 Deal Status False\n",
      "Ep 2900 | P-loss -0.498  V-loss 4.259  Success_Rate 0.21875 Avg_Reward -19.508 Deal Status False\n",
      "Ep 3000 | P-loss 0.208  V-loss 3.781  Success_Rate 0.28125 Avg_Reward -18.827 Deal Status True\n",
      "✅ Done\n"
     ]
    }
   ],
   "source": [
    "seller_min_amt_new = 700\n",
    "buyer_reservation_price_new = 1200\n",
    "trial_env    = Negotiation_Agent(seller_min_amt_new, buyer_reservation_price_new, max_rounds=10)\n",
    "policy = PPOPolicy(trial_env.observation_space.shape[0])\n",
    "opt    = torch.optim.Adam(policy.parameters(), lr=3e-5)\n",
    "\n",
    "p_loss, v_loss, avg_r, success_r = trial_train(trial_env, policy, opt,\n",
    "                                    batch_size=32, epochs=3000)\n",
    "\n",
    "chkpt = {\n",
    "    \"state.dict\": policy.state_dict(),\n",
    "    \"success rates\": success_r\n",
    "}\n",
    "\n",
    "torch.save(chkpt, \"ppo_negotiation_weights_2.pth\")\n",
    "print(\"✅ Done\")\n"
   ]
  },
  {
   "cell_type": "markdown",
   "id": "3e659079",
   "metadata": {},
   "source": [
    "#### Visualizing Policy Loss & Value Loss for every 10th episode "
   ]
  },
  {
   "cell_type": "code",
   "execution_count": 122,
   "id": "12244db0",
   "metadata": {},
   "outputs": [],
   "source": [
    "p_loss_new = p_loss[::10]\n",
    "v_loss_new = v_loss[::10]"
   ]
  },
  {
   "cell_type": "code",
   "execution_count": null,
   "id": "5e1e94fc",
   "metadata": {},
   "outputs": [
    {
     "data": {
      "application/vnd.plotly.v1+json": {
       "config": {
        "plotlyServerURL": "https://plot.ly"
       },
       "data": [
        {
         "hovertemplate": "Series=Value Loss<br>Episodes=%{x}<br>Value=%{y}<extra></extra>",
         "legendgroup": "Value Loss",
         "line": {
          "color": "blue",
          "dash": "solid"
         },
         "marker": {
          "symbol": "circle"
         },
         "mode": "lines",
         "name": "Value Loss",
         "orientation": "v",
         "showlegend": true,
         "type": "scatter",
         "x": [
          0,
          1,
          2,
          3,
          4,
          5,
          6,
          7,
          8,
          9,
          10,
          11,
          12,
          13,
          14,
          15,
          16,
          17,
          18,
          19,
          20,
          21,
          22,
          23,
          24,
          25,
          26,
          27,
          28,
          29,
          30,
          31,
          32,
          33,
          34,
          35,
          36,
          37,
          38,
          39,
          40,
          41,
          42,
          43,
          44,
          45,
          46,
          47,
          48,
          49,
          50,
          51,
          52,
          53,
          54,
          55,
          56,
          57,
          58,
          59,
          60,
          61,
          62,
          63,
          64,
          65,
          66,
          67,
          68,
          69,
          70,
          71,
          72,
          73,
          74,
          75,
          76,
          77,
          78,
          79,
          80,
          81,
          82,
          83,
          84,
          85,
          86,
          87,
          88,
          89,
          90,
          91,
          92,
          93,
          94,
          95,
          96,
          97,
          98,
          99,
          100,
          101,
          102,
          103,
          104,
          105,
          106,
          107,
          108,
          109,
          110,
          111,
          112,
          113,
          114,
          115,
          116,
          117,
          118,
          119,
          120,
          121,
          122,
          123,
          124,
          125,
          126,
          127,
          128,
          129,
          130,
          131,
          132,
          133,
          134,
          135,
          136,
          137,
          138,
          139,
          140,
          141,
          142,
          143,
          144,
          145,
          146,
          147,
          148,
          149,
          150,
          151,
          152,
          153,
          154,
          155,
          156,
          157,
          158,
          159,
          160,
          161,
          162,
          163,
          164,
          165,
          166,
          167,
          168,
          169,
          170,
          171,
          172,
          173,
          174,
          175,
          176,
          177,
          178,
          179,
          180,
          181,
          182,
          183,
          184,
          185,
          186,
          187,
          188,
          189,
          190,
          191,
          192,
          193,
          194,
          195,
          196,
          197,
          198,
          199,
          200,
          201,
          202,
          203,
          204,
          205,
          206,
          207,
          208,
          209,
          210,
          211,
          212,
          213,
          214,
          215,
          216,
          217,
          218,
          219,
          220,
          221,
          222,
          223,
          224,
          225,
          226,
          227,
          228,
          229,
          230,
          231,
          232,
          233,
          234,
          235,
          236,
          237,
          238,
          239,
          240,
          241,
          242,
          243,
          244,
          245,
          246,
          247,
          248,
          249,
          250,
          251,
          252,
          253,
          254,
          255,
          256,
          257,
          258,
          259,
          260,
          261,
          262,
          263,
          264,
          265,
          266,
          267,
          268,
          269,
          270,
          271,
          272,
          273,
          274,
          275,
          276,
          277,
          278,
          279,
          280,
          281,
          282,
          283,
          284,
          285,
          286,
          287,
          288,
          289,
          290,
          291,
          292,
          293,
          294,
          295,
          296,
          297,
          298,
          299
         ],
         "xaxis": "x",
         "y": [
          3.987981081008911,
          1.9682539701461792,
          1.9677420854568481,
          1.9661017656326294,
          6.156041145324707,
          3.809123992919922,
          4.0559186935424805,
          4.213161945343018,
          3.695878267288208,
          3.487529754638672,
          3.7855727672576904,
          4.270104885101318,
          4.444749355316162,
          4.5048322677612305,
          4.066773414611816,
          3.888458251953125,
          4.001535415649414,
          3.7655117511749268,
          1.966666579246521,
          4.7418437004089355,
          3.846919298171997,
          3.241665840148926,
          3.3473315238952637,
          4.385870933532715,
          4.055367469787598,
          3.8710856437683105,
          1.9682539701461792,
          4.03687858581543,
          3.4956207275390625,
          1.968749761581421,
          2.797720193862915,
          4.254121780395508,
          3.7816665172576904,
          1.9672132730484009,
          4.003838539123535,
          1.9677419662475586,
          3.207423210144043,
          3.8854098320007324,
          3.947289228439331,
          4.344703197479248,
          4.229747772216797,
          3.793109893798828,
          3.6165194511413574,
          1.96875,
          4.278022289276123,
          1.9677419662475586,
          3.751465320587158,
          1.9661016464233398,
          1.9666666984558105,
          4.120729923248291,
          1.9687501192092896,
          3.954571485519409,
          3.8473641872406006,
          4.671057224273682,
          4.2112321853637695,
          4.62959623336792,
          1.9682540893554688,
          2.4953055381774902,
          3.2603847980499268,
          2.1814332008361816,
          4.414499282836914,
          3.852736473083496,
          3.8112289905548096,
          4.544256210327148,
          3.9563817977905273,
          3.4595794677734375,
          3.7533750534057617,
          1.96875,
          3.8192005157470703,
          4.2107720375061035,
          1.9666669368743896,
          2.7105681896209717,
          3.799375295639038,
          3.8011562824249268,
          5.215566158294678,
          3.664111614227295,
          3.5328967571258545,
          1.96875,
          4.230749130249023,
          3.9677302837371826,
          1.96875,
          4.063535690307617,
          4.093995571136475,
          4.4412431716918945,
          5.410374641418457,
          3.128204345703125,
          2.747352123260498,
          1.9672131538391113,
          3.2686612606048584,
          4.296890735626221,
          3.870872735977173,
          4.690759181976318,
          4.643503189086914,
          4.165860652923584,
          4.054896354675293,
          4.024864196777344,
          4.301532745361328,
          3.1771528720855713,
          3.8334200382232666,
          3.960296154022217,
          4.486860275268555,
          3.6731388568878174,
          3.5333094596862793,
          5.060640335083008,
          4.022172927856445,
          1.96875,
          5.131976127624512,
          4.333846092224121,
          4.333687782287598,
          1.9655174016952515,
          4.114451885223389,
          4.343705177307129,
          4.351624488830566,
          4.641905307769775,
          2.953444719314575,
          3.896162271499634,
          4.428443431854248,
          3.8416967391967773,
          3.6864185333251953,
          3.8724584579467773,
          1.9636361598968506,
          3.521864652633667,
          4.264518737792969,
          3.6523170471191406,
          3.566020965576172,
          4.190798759460449,
          4.191878318786621,
          1.96875,
          3.7910032272338867,
          3.4295947551727295,
          4.030389308929443,
          3.991460084915161,
          4.316000461578369,
          1.9622642993927002,
          3.517681360244751,
          1.9682538509368896,
          3.6569631099700928,
          4.327292442321777,
          1.9666668176651,
          5.5508856773376465,
          3.530670642852783,
          3.7419979572296143,
          3.757660388946533,
          3.5049374103546143,
          4.112484931945801,
          4.399593830108643,
          3.789780616760254,
          3.454073905944824,
          4.073227405548096,
          3.7793145179748535,
          3.833982467651367,
          3.9744818210601807,
          3.427093982696533,
          3.7158217430114746,
          4.106192111968994,
          4.124748229980469,
          3.362819194793701,
          4.383449077606201,
          4.527267932891846,
          3.2825379371643066,
          3.1179864406585693,
          1.96875,
          4.092540264129639,
          4.643947124481201,
          4.426346302032471,
          4.034182548522949,
          3.1991686820983887,
          3.9693174362182617,
          4.576019287109375,
          3.438413619995117,
          3.9253978729248047,
          4.240184783935547,
          3.6115801334381104,
          4.079864501953125,
          3.6735148429870605,
          1.9677419662475586,
          3.554971933364868,
          3.8947627544403076,
          3.0313539505004883,
          4.072091102600098,
          1.965517282485962,
          2.7541749477386475,
          3.979964256286621,
          4.311800956726074,
          5.7371978759765625,
          4.281017780303955,
          1.9642857313156128,
          3.6029322147369385,
          1.9687498807907104,
          4.253660202026367,
          4.304477691650391,
          4.284372329711914,
          3.795743942260742,
          3.8473944664001465,
          4.230705261230469,
          3.346505880355835,
          4.623184680938721,
          1.9677419662475586,
          4.558728218078613,
          1.9682538509368896,
          5.371706962585449,
          3.99294376373291,
          4.526071548461914,
          3.7786364555358887,
          3.987818956375122,
          4.232246398925781,
          3.7420902252197266,
          4.315900802612305,
          1.9661016464233398,
          1.96875,
          3.4165468215942383,
          4.022392749786377,
          4.514125347137451,
          3.8876748085021973,
          3.985926628112793,
          1.9607843160629272,
          3.9121196269989014,
          4.2834696769714355,
          1.9672131538391113,
          3.7739977836608887,
          4.220818519592285,
          3.7961626052856445,
          3.9472508430480957,
          3.512991428375244,
          5.275150299072266,
          3.6299870014190674,
          3.637347459793091,
          4.024513244628906,
          3.8805813789367676,
          3.768923282623291,
          3.6107728481292725,
          4.1606574058532715,
          3.028757333755493,
          4.449564456939697,
          4.407090187072754,
          3.6035146713256836,
          1.966666579246521,
          4.268148422241211,
          3.791109085083008,
          4.60081148147583,
          3.9340717792510986,
          3.8076186180114746,
          3.828418254852295,
          3.979013442993164,
          4.8105621337890625,
          4.230496883392334,
          3.9379138946533203,
          3.832418441772461,
          4.26942253112793,
          4.318458080291748,
          2.9689879417419434,
          4.369454383850098,
          4.7407684326171875,
          4.23805570602417,
          3.9009463787078857,
          1.966666579246521,
          5.161589622497559,
          3.5088160037994385,
          4.212738037109375,
          2.594146251678467,
          4.015282154083252,
          3.6555466651916504,
          4.1022844314575195,
          4.265285491943359,
          1.9672130346298218,
          3.842085838317871,
          3.6143479347229004,
          4.1605753898620605,
          4.058287143707275,
          3.8219540119171143,
          3.7019858360290527,
          3.7460570335388184,
          4.791889667510986,
          4.073906898498535,
          3.308241128921509,
          3.9812097549438477,
          1.9677419662475586,
          1.9672132730484009,
          4.153306007385254,
          6.110077857971191,
          1.967741847038269,
          5.073791027069092,
          4.093959331512451,
          4.160334587097168,
          3.175077438354492,
          4.316640377044678,
          3.1512489318847656,
          4.496915817260742,
          1.9655171632766724,
          3.177708148956299,
          3.7487659454345703,
          3.9339113235473633,
          5.3297624588012695,
          6.446503639221191,
          4.214244842529297,
          3.7499074935913086,
          3.8144354820251465,
          3.788640260696411,
          3.5838217735290527,
          1.9677419662475586
         ],
         "yaxis": "y"
        },
        {
         "hovertemplate": "Series=Policy Loss<br>Episodes=%{x}<br>Value=%{y}<extra></extra>",
         "legendgroup": "Policy Loss",
         "line": {
          "color": "red",
          "dash": "solid"
         },
         "marker": {
          "symbol": "circle"
         },
         "mode": "lines",
         "name": "Policy Loss",
         "orientation": "v",
         "showlegend": true,
         "type": "scatter",
         "x": [
          0,
          1,
          2,
          3,
          4,
          5,
          6,
          7,
          8,
          9,
          10,
          11,
          12,
          13,
          14,
          15,
          16,
          17,
          18,
          19,
          20,
          21,
          22,
          23,
          24,
          25,
          26,
          27,
          28,
          29,
          30,
          31,
          32,
          33,
          34,
          35,
          36,
          37,
          38,
          39,
          40,
          41,
          42,
          43,
          44,
          45,
          46,
          47,
          48,
          49,
          50,
          51,
          52,
          53,
          54,
          55,
          56,
          57,
          58,
          59,
          60,
          61,
          62,
          63,
          64,
          65,
          66,
          67,
          68,
          69,
          70,
          71,
          72,
          73,
          74,
          75,
          76,
          77,
          78,
          79,
          80,
          81,
          82,
          83,
          84,
          85,
          86,
          87,
          88,
          89,
          90,
          91,
          92,
          93,
          94,
          95,
          96,
          97,
          98,
          99,
          100,
          101,
          102,
          103,
          104,
          105,
          106,
          107,
          108,
          109,
          110,
          111,
          112,
          113,
          114,
          115,
          116,
          117,
          118,
          119,
          120,
          121,
          122,
          123,
          124,
          125,
          126,
          127,
          128,
          129,
          130,
          131,
          132,
          133,
          134,
          135,
          136,
          137,
          138,
          139,
          140,
          141,
          142,
          143,
          144,
          145,
          146,
          147,
          148,
          149,
          150,
          151,
          152,
          153,
          154,
          155,
          156,
          157,
          158,
          159,
          160,
          161,
          162,
          163,
          164,
          165,
          166,
          167,
          168,
          169,
          170,
          171,
          172,
          173,
          174,
          175,
          176,
          177,
          178,
          179,
          180,
          181,
          182,
          183,
          184,
          185,
          186,
          187,
          188,
          189,
          190,
          191,
          192,
          193,
          194,
          195,
          196,
          197,
          198,
          199,
          200,
          201,
          202,
          203,
          204,
          205,
          206,
          207,
          208,
          209,
          210,
          211,
          212,
          213,
          214,
          215,
          216,
          217,
          218,
          219,
          220,
          221,
          222,
          223,
          224,
          225,
          226,
          227,
          228,
          229,
          230,
          231,
          232,
          233,
          234,
          235,
          236,
          237,
          238,
          239,
          240,
          241,
          242,
          243,
          244,
          245,
          246,
          247,
          248,
          249,
          250,
          251,
          252,
          253,
          254,
          255,
          256,
          257,
          258,
          259,
          260,
          261,
          262,
          263,
          264,
          265,
          266,
          267,
          268,
          269,
          270,
          271,
          272,
          273,
          274,
          275,
          276,
          277,
          278,
          279,
          280,
          281,
          282,
          283,
          284,
          285,
          286,
          287,
          288,
          289,
          290,
          291,
          292,
          293,
          294,
          295,
          296,
          297,
          298,
          299
         ],
         "xaxis": "x",
         "y": [
          -0.019933313131332397,
          -2.989693257404724e-7,
          3.9415971286871354e-7,
          4.4855019609713054e-7,
          -0.4247509241104126,
          -0.4738216996192932,
          0.19271154701709747,
          -0.43390214443206787,
          0.42102664709091187,
          0.8361333608627319,
          -0.007897421717643738,
          0.8161629438400269,
          -0.10244321078062057,
          -0.35038572549819946,
          0.195797860622406,
          0.09329672157764435,
          0.053651317954063416,
          0.5631220936775208,
          3.079573502873245e-7,
          -0.23788687586784363,
          0.3744787573814392,
          0.20760920643806458,
          1.0649068355560303,
          -0.4425846338272095,
          0.06539136916399002,
          0.419986367225647,
          -0.0000012375060123304138,
          -0.9111332297325134,
          0.2721904516220093,
          1.1455267667770386e-7,
          0.44800809025764465,
          0.12160463631153107,
          0.3089596629142761,
          1.3679754218287599e-8,
          -0.11699548363685608,
          4.364597998574027e-7,
          0.3231945037841797,
          0.5407025814056396,
          1.6898027658462524,
          0.29644763469696045,
          -0.18755881488323212,
          0.6424326300621033,
          -0.07923124730587006,
          -4.6566128730773926e-9,
          -1.5318491458892822,
          -5.960464477539063e-8,
          0.24041882157325745,
          -2.3033658180793282e-7,
          -2.6822092991096724e-8,
          -0.2518085241317749,
          -5.364418029785156e-7,
          -0.022393546998500824,
          0.3187151551246643,
          0.5748997926712036,
          -0.14813503623008728,
          -0.17821219563484192,
          -4.654838789974747e-7,
          -1.8261346817016602,
          -0.4558226466178894,
          -1.0633063316345215,
          -0.8559130430221558,
          -0.020634323358535767,
          0.14770303666591644,
          -0.17653390765190125,
          0.12545213103294373,
          -0.2925451099872589,
          0.5095476508140564,
          -8.23289155960083e-7,
          0.46547675132751465,
          -0.287462443113327,
          -2.1060307631159958e-7,
          1.2845571041107178,
          0.7927836775779724,
          -0.6532975435256958,
          -0.17213793098926544,
          -1.430189847946167,
          0.16611948609352112,
          1.8998980522155762e-7,
          -0.9736939072608948,
          0.0029838383197784424,
          -5.550682544708252e-7,
          -0.5953854322433472,
          -0.010793998837471008,
          -0.13831529021263123,
          -2.071803092956543,
          0.600700318813324,
          1.3360878229141235,
          -3.517651236961683e-7,
          0.17384283244609833,
          -0.46608179807662964,
          0.29397761821746826,
          -0.7302653193473816,
          -0.1948235034942627,
          -0.19190435111522675,
          -0.03388378024101257,
          -0.11249282956123352,
          -0.37993988394737244,
          0.7547658681869507,
          -0.4236895740032196,
          -0.07159879803657532,
          0.6671155095100403,
          0.4574366509914398,
          -0.09001339972019196,
          0.28064632415771484,
          -0.4102761149406433,
          2.2724270820617676e-7,
          -1.8245999813079834,
          0.23817265033721924,
          -0.974853515625,
          7.399197698987336e-8,
          -0.4132820963859558,
          -0.399253785610199,
          0.6953076124191284,
          0.18124985694885254,
          0.7744875550270081,
          0.2971358001232147,
          -0.6836404800415039,
          0.40069854259490967,
          -0.029240138828754425,
          0.5698519349098206,
          0.0000012787905916411546,
          0.24787935614585876,
          -0.8428478837013245,
          -0.40084320306777954,
          0.0703587681055069,
          -0.15750819444656372,
          -0.3013182282447815,
          1.4901161193847656e-8,
          0.32335782051086426,
          0.8507200479507446,
          0.28125011920928955,
          0.49404847621917725,
          -0.43359264731407166,
          -4.048617370244756e-7,
          0.4946860671043396,
          8.855547548591858e-7,
          -0.41630539298057556,
          0.12432650476694107,
          -4.490216554131621e-7,
          -1.4326187372207642,
          -2.2162954807281494,
          -0.2567239999771118,
          0.2494848668575287,
          0.14054447412490845,
          -0.7084169387817383,
          -0.18731147050857544,
          0.7897387742996216,
          0.3780829608440399,
          -0.2934219241142273,
          0.08033847063779831,
          0.3462027311325073,
          0.176937073469162,
          1.0424749851226807,
          -0.34477129578590393,
          -0.694732666015625,
          -0.12339803576469421,
          1.3401901721954346,
          -0.47256046533584595,
          -0.7090691924095154,
          1.3190399408340454,
          0.08204317092895508,
          -2.1886080503463745e-7,
          -0.4326793849468231,
          -0.717573881149292,
          0.32008665800094604,
          0.3799421787261963,
          -0.011469319462776184,
          -0.11213303357362747,
          -1.0286195278167725,
          0.8505546450614929,
          0.09544911980628967,
          -0.05874758958816528,
          0.07391238212585449,
          0.5585027933120728,
          0.3582804203033447,
          5.364418029785156e-7,
          0.26893386244773865,
          0.925623893737793,
          -1.0793612003326416,
          -0.15356653928756714,
          3.288532113288056e-8,
          0.15025264024734497,
          -0.3761769235134125,
          -0.9700577259063721,
          -1.988189935684204,
          0.5339763164520264,
          6.471361189142044e-7,
          0.6397789716720581,
          3.334134817123413e-7,
          0.7860229015350342,
          -0.25168007612228394,
          -0.6907824277877808,
          0.24275454878807068,
          0.377636194229126,
          -0.8489235639572144,
          -0.6913689970970154,
          -0.6106091737747192,
          -1.807366629691387e-7,
          -0.8435722589492798,
          -3.1883752171779633e-7,
          -1.593907117843628,
          -0.02028695121407509,
          -0.3464614152908325,
          -0.44398802518844604,
          0.1897483766078949,
          -0.12073685228824615,
          0.05208578705787659,
          0.10766458511352539,
          -4.4147844846520456e-7,
          -2.4586915969848633e-7,
          -0.0971919447183609,
          -0.10360153019428253,
          -0.3219638466835022,
          -0.27869558334350586,
          1.5467509031295776,
          7.701854656261276e-7,
          0.6751469373703003,
          0.2166849970817566,
          -0.0000019884500943589956,
          0.5248399376869202,
          -1.3216688632965088,
          0.194194033741951,
          -0.05144653841853142,
          0.3415871858596802,
          -0.871212363243103,
          0.3262993395328522,
          0.3443567752838135,
          -0.167903333902359,
          0.14309078454971313,
          0.013245761394500732,
          0.8393336534500122,
          -0.005492553114891052,
          1.3732242584228516,
          0.0995800793170929,
          1.1979143619537354,
          0.14328639209270477,
          8.255242960331088e-7,
          -0.37275224924087524,
          0.09060290455818176,
          1.9080573320388794,
          -0.3514302372932434,
          -0.05779621750116348,
          -0.4199690818786621,
          -3.2579526901245117,
          -0.9390371441841125,
          -0.349545955657959,
          0.14284130930900574,
          0.11827369034290314,
          -0.31832581758499146,
          -0.617124080657959,
          2.230433225631714,
          -0.03573574125766754,
          -0.12417632341384888,
          -1.4301166534423828,
          -0.007429525256156921,
          4.192193614471762e-7,
          -2.4006447792053223,
          -0.5143994092941284,
          -0.6115792989730835,
          0.028896477073431015,
          -0.005823314189910889,
          -0.514814019203186,
          0.7416366934776306,
          0.48231545090675354,
          -9.927593964675907e-7,
          1.1724498271942139,
          0.35117340087890625,
          -0.40234971046447754,
          -0.07886132597923279,
          0.4538642168045044,
          0.38825610280036926,
          0.5174922347068787,
          -1.2856525182724,
          -0.1868983805179596,
          0.855667769908905,
          -0.10521121323108673,
          -8.075467405888048e-8,
          6.95713254117436e-7,
          -0.45983827114105225,
          -0.9827713370323181,
          7.690921677294682e-8,
          -0.49695682525634766,
          -0.09890381991863251,
          -0.308071494102478,
          -0.06757593154907227,
          -0.8843769431114197,
          0.18949760496616364,
          -0.8185074925422668,
          1.4798393976889201e-7,
          0.5130156874656677,
          0.10414475947618484,
          0.053966209292411804,
          -1.696671485900879,
          -1.671589732170105,
          4.010607719421387,
          -0.31833869218826294,
          -0.1594419628381729,
          -0.19769985973834991,
          0.8691044449806213,
          -2.1150034612560376e-8
         ],
         "yaxis": "y"
        }
       ],
       "layout": {
        "legend": {
         "title": {
          "text": "Series"
         },
         "tracegroupgap": 0
        },
        "template": {
         "data": {
          "bar": [
           {
            "error_x": {
             "color": "#2a3f5f"
            },
            "error_y": {
             "color": "#2a3f5f"
            },
            "marker": {
             "line": {
              "color": "#E5ECF6",
              "width": 0.5
             },
             "pattern": {
              "fillmode": "overlay",
              "size": 10,
              "solidity": 0.2
             }
            },
            "type": "bar"
           }
          ],
          "barpolar": [
           {
            "marker": {
             "line": {
              "color": "#E5ECF6",
              "width": 0.5
             },
             "pattern": {
              "fillmode": "overlay",
              "size": 10,
              "solidity": 0.2
             }
            },
            "type": "barpolar"
           }
          ],
          "carpet": [
           {
            "aaxis": {
             "endlinecolor": "#2a3f5f",
             "gridcolor": "white",
             "linecolor": "white",
             "minorgridcolor": "white",
             "startlinecolor": "#2a3f5f"
            },
            "baxis": {
             "endlinecolor": "#2a3f5f",
             "gridcolor": "white",
             "linecolor": "white",
             "minorgridcolor": "white",
             "startlinecolor": "#2a3f5f"
            },
            "type": "carpet"
           }
          ],
          "choropleth": [
           {
            "colorbar": {
             "outlinewidth": 0,
             "ticks": ""
            },
            "type": "choropleth"
           }
          ],
          "contour": [
           {
            "colorbar": {
             "outlinewidth": 0,
             "ticks": ""
            },
            "colorscale": [
             [
              0,
              "#0d0887"
             ],
             [
              0.1111111111111111,
              "#46039f"
             ],
             [
              0.2222222222222222,
              "#7201a8"
             ],
             [
              0.3333333333333333,
              "#9c179e"
             ],
             [
              0.4444444444444444,
              "#bd3786"
             ],
             [
              0.5555555555555556,
              "#d8576b"
             ],
             [
              0.6666666666666666,
              "#ed7953"
             ],
             [
              0.7777777777777778,
              "#fb9f3a"
             ],
             [
              0.8888888888888888,
              "#fdca26"
             ],
             [
              1,
              "#f0f921"
             ]
            ],
            "type": "contour"
           }
          ],
          "contourcarpet": [
           {
            "colorbar": {
             "outlinewidth": 0,
             "ticks": ""
            },
            "type": "contourcarpet"
           }
          ],
          "heatmap": [
           {
            "colorbar": {
             "outlinewidth": 0,
             "ticks": ""
            },
            "colorscale": [
             [
              0,
              "#0d0887"
             ],
             [
              0.1111111111111111,
              "#46039f"
             ],
             [
              0.2222222222222222,
              "#7201a8"
             ],
             [
              0.3333333333333333,
              "#9c179e"
             ],
             [
              0.4444444444444444,
              "#bd3786"
             ],
             [
              0.5555555555555556,
              "#d8576b"
             ],
             [
              0.6666666666666666,
              "#ed7953"
             ],
             [
              0.7777777777777778,
              "#fb9f3a"
             ],
             [
              0.8888888888888888,
              "#fdca26"
             ],
             [
              1,
              "#f0f921"
             ]
            ],
            "type": "heatmap"
           }
          ],
          "heatmapgl": [
           {
            "colorbar": {
             "outlinewidth": 0,
             "ticks": ""
            },
            "colorscale": [
             [
              0,
              "#0d0887"
             ],
             [
              0.1111111111111111,
              "#46039f"
             ],
             [
              0.2222222222222222,
              "#7201a8"
             ],
             [
              0.3333333333333333,
              "#9c179e"
             ],
             [
              0.4444444444444444,
              "#bd3786"
             ],
             [
              0.5555555555555556,
              "#d8576b"
             ],
             [
              0.6666666666666666,
              "#ed7953"
             ],
             [
              0.7777777777777778,
              "#fb9f3a"
             ],
             [
              0.8888888888888888,
              "#fdca26"
             ],
             [
              1,
              "#f0f921"
             ]
            ],
            "type": "heatmapgl"
           }
          ],
          "histogram": [
           {
            "marker": {
             "pattern": {
              "fillmode": "overlay",
              "size": 10,
              "solidity": 0.2
             }
            },
            "type": "histogram"
           }
          ],
          "histogram2d": [
           {
            "colorbar": {
             "outlinewidth": 0,
             "ticks": ""
            },
            "colorscale": [
             [
              0,
              "#0d0887"
             ],
             [
              0.1111111111111111,
              "#46039f"
             ],
             [
              0.2222222222222222,
              "#7201a8"
             ],
             [
              0.3333333333333333,
              "#9c179e"
             ],
             [
              0.4444444444444444,
              "#bd3786"
             ],
             [
              0.5555555555555556,
              "#d8576b"
             ],
             [
              0.6666666666666666,
              "#ed7953"
             ],
             [
              0.7777777777777778,
              "#fb9f3a"
             ],
             [
              0.8888888888888888,
              "#fdca26"
             ],
             [
              1,
              "#f0f921"
             ]
            ],
            "type": "histogram2d"
           }
          ],
          "histogram2dcontour": [
           {
            "colorbar": {
             "outlinewidth": 0,
             "ticks": ""
            },
            "colorscale": [
             [
              0,
              "#0d0887"
             ],
             [
              0.1111111111111111,
              "#46039f"
             ],
             [
              0.2222222222222222,
              "#7201a8"
             ],
             [
              0.3333333333333333,
              "#9c179e"
             ],
             [
              0.4444444444444444,
              "#bd3786"
             ],
             [
              0.5555555555555556,
              "#d8576b"
             ],
             [
              0.6666666666666666,
              "#ed7953"
             ],
             [
              0.7777777777777778,
              "#fb9f3a"
             ],
             [
              0.8888888888888888,
              "#fdca26"
             ],
             [
              1,
              "#f0f921"
             ]
            ],
            "type": "histogram2dcontour"
           }
          ],
          "mesh3d": [
           {
            "colorbar": {
             "outlinewidth": 0,
             "ticks": ""
            },
            "type": "mesh3d"
           }
          ],
          "parcoords": [
           {
            "line": {
             "colorbar": {
              "outlinewidth": 0,
              "ticks": ""
             }
            },
            "type": "parcoords"
           }
          ],
          "pie": [
           {
            "automargin": true,
            "type": "pie"
           }
          ],
          "scatter": [
           {
            "fillpattern": {
             "fillmode": "overlay",
             "size": 10,
             "solidity": 0.2
            },
            "type": "scatter"
           }
          ],
          "scatter3d": [
           {
            "line": {
             "colorbar": {
              "outlinewidth": 0,
              "ticks": ""
             }
            },
            "marker": {
             "colorbar": {
              "outlinewidth": 0,
              "ticks": ""
             }
            },
            "type": "scatter3d"
           }
          ],
          "scattercarpet": [
           {
            "marker": {
             "colorbar": {
              "outlinewidth": 0,
              "ticks": ""
             }
            },
            "type": "scattercarpet"
           }
          ],
          "scattergeo": [
           {
            "marker": {
             "colorbar": {
              "outlinewidth": 0,
              "ticks": ""
             }
            },
            "type": "scattergeo"
           }
          ],
          "scattergl": [
           {
            "marker": {
             "colorbar": {
              "outlinewidth": 0,
              "ticks": ""
             }
            },
            "type": "scattergl"
           }
          ],
          "scattermapbox": [
           {
            "marker": {
             "colorbar": {
              "outlinewidth": 0,
              "ticks": ""
             }
            },
            "type": "scattermapbox"
           }
          ],
          "scatterpolar": [
           {
            "marker": {
             "colorbar": {
              "outlinewidth": 0,
              "ticks": ""
             }
            },
            "type": "scatterpolar"
           }
          ],
          "scatterpolargl": [
           {
            "marker": {
             "colorbar": {
              "outlinewidth": 0,
              "ticks": ""
             }
            },
            "type": "scatterpolargl"
           }
          ],
          "scatterternary": [
           {
            "marker": {
             "colorbar": {
              "outlinewidth": 0,
              "ticks": ""
             }
            },
            "type": "scatterternary"
           }
          ],
          "surface": [
           {
            "colorbar": {
             "outlinewidth": 0,
             "ticks": ""
            },
            "colorscale": [
             [
              0,
              "#0d0887"
             ],
             [
              0.1111111111111111,
              "#46039f"
             ],
             [
              0.2222222222222222,
              "#7201a8"
             ],
             [
              0.3333333333333333,
              "#9c179e"
             ],
             [
              0.4444444444444444,
              "#bd3786"
             ],
             [
              0.5555555555555556,
              "#d8576b"
             ],
             [
              0.6666666666666666,
              "#ed7953"
             ],
             [
              0.7777777777777778,
              "#fb9f3a"
             ],
             [
              0.8888888888888888,
              "#fdca26"
             ],
             [
              1,
              "#f0f921"
             ]
            ],
            "type": "surface"
           }
          ],
          "table": [
           {
            "cells": {
             "fill": {
              "color": "#EBF0F8"
             },
             "line": {
              "color": "white"
             }
            },
            "header": {
             "fill": {
              "color": "#C8D4E3"
             },
             "line": {
              "color": "white"
             }
            },
            "type": "table"
           }
          ]
         },
         "layout": {
          "annotationdefaults": {
           "arrowcolor": "#2a3f5f",
           "arrowhead": 0,
           "arrowwidth": 1
          },
          "autotypenumbers": "strict",
          "coloraxis": {
           "colorbar": {
            "outlinewidth": 0,
            "ticks": ""
           }
          },
          "colorscale": {
           "diverging": [
            [
             0,
             "#8e0152"
            ],
            [
             0.1,
             "#c51b7d"
            ],
            [
             0.2,
             "#de77ae"
            ],
            [
             0.3,
             "#f1b6da"
            ],
            [
             0.4,
             "#fde0ef"
            ],
            [
             0.5,
             "#f7f7f7"
            ],
            [
             0.6,
             "#e6f5d0"
            ],
            [
             0.7,
             "#b8e186"
            ],
            [
             0.8,
             "#7fbc41"
            ],
            [
             0.9,
             "#4d9221"
            ],
            [
             1,
             "#276419"
            ]
           ],
           "sequential": [
            [
             0,
             "#0d0887"
            ],
            [
             0.1111111111111111,
             "#46039f"
            ],
            [
             0.2222222222222222,
             "#7201a8"
            ],
            [
             0.3333333333333333,
             "#9c179e"
            ],
            [
             0.4444444444444444,
             "#bd3786"
            ],
            [
             0.5555555555555556,
             "#d8576b"
            ],
            [
             0.6666666666666666,
             "#ed7953"
            ],
            [
             0.7777777777777778,
             "#fb9f3a"
            ],
            [
             0.8888888888888888,
             "#fdca26"
            ],
            [
             1,
             "#f0f921"
            ]
           ],
           "sequentialminus": [
            [
             0,
             "#0d0887"
            ],
            [
             0.1111111111111111,
             "#46039f"
            ],
            [
             0.2222222222222222,
             "#7201a8"
            ],
            [
             0.3333333333333333,
             "#9c179e"
            ],
            [
             0.4444444444444444,
             "#bd3786"
            ],
            [
             0.5555555555555556,
             "#d8576b"
            ],
            [
             0.6666666666666666,
             "#ed7953"
            ],
            [
             0.7777777777777778,
             "#fb9f3a"
            ],
            [
             0.8888888888888888,
             "#fdca26"
            ],
            [
             1,
             "#f0f921"
            ]
           ]
          },
          "colorway": [
           "#636efa",
           "#EF553B",
           "#00cc96",
           "#ab63fa",
           "#FFA15A",
           "#19d3f3",
           "#FF6692",
           "#B6E880",
           "#FF97FF",
           "#FECB52"
          ],
          "font": {
           "color": "#2a3f5f"
          },
          "geo": {
           "bgcolor": "white",
           "lakecolor": "white",
           "landcolor": "#E5ECF6",
           "showlakes": true,
           "showland": true,
           "subunitcolor": "white"
          },
          "hoverlabel": {
           "align": "left"
          },
          "hovermode": "closest",
          "mapbox": {
           "style": "light"
          },
          "paper_bgcolor": "white",
          "plot_bgcolor": "#E5ECF6",
          "polar": {
           "angularaxis": {
            "gridcolor": "white",
            "linecolor": "white",
            "ticks": ""
           },
           "bgcolor": "#E5ECF6",
           "radialaxis": {
            "gridcolor": "white",
            "linecolor": "white",
            "ticks": ""
           }
          },
          "scene": {
           "xaxis": {
            "backgroundcolor": "#E5ECF6",
            "gridcolor": "white",
            "gridwidth": 2,
            "linecolor": "white",
            "showbackground": true,
            "ticks": "",
            "zerolinecolor": "white"
           },
           "yaxis": {
            "backgroundcolor": "#E5ECF6",
            "gridcolor": "white",
            "gridwidth": 2,
            "linecolor": "white",
            "showbackground": true,
            "ticks": "",
            "zerolinecolor": "white"
           },
           "zaxis": {
            "backgroundcolor": "#E5ECF6",
            "gridcolor": "white",
            "gridwidth": 2,
            "linecolor": "white",
            "showbackground": true,
            "ticks": "",
            "zerolinecolor": "white"
           }
          },
          "shapedefaults": {
           "line": {
            "color": "#2a3f5f"
           }
          },
          "ternary": {
           "aaxis": {
            "gridcolor": "white",
            "linecolor": "white",
            "ticks": ""
           },
           "baxis": {
            "gridcolor": "white",
            "linecolor": "white",
            "ticks": ""
           },
           "bgcolor": "#E5ECF6",
           "caxis": {
            "gridcolor": "white",
            "linecolor": "white",
            "ticks": ""
           }
          },
          "title": {
           "x": 0.05
          },
          "xaxis": {
           "automargin": true,
           "gridcolor": "white",
           "linecolor": "white",
           "ticks": "",
           "title": {
            "standoff": 15
           },
           "zerolinecolor": "white",
           "zerolinewidth": 2
          },
          "yaxis": {
           "automargin": true,
           "gridcolor": "white",
           "linecolor": "white",
           "ticks": "",
           "title": {
            "standoff": 15
           },
           "zerolinecolor": "white",
           "zerolinewidth": 2
          }
         }
        },
        "title": {
         "text": "Policy Loss & Value Loss"
        },
        "xaxis": {
         "anchor": "y",
         "domain": [
          0,
          1
         ],
         "title": {
          "text": "Episodes"
         }
        },
        "yaxis": {
         "anchor": "x",
         "domain": [
          0,
          1
         ],
         "title": {
          "text": "Value"
         }
        }
       }
      }
     },
     "metadata": {},
     "output_type": "display_data"
    }
   ],
   "source": [
    "# Plotting Policy Loss and Value Loss\n",
    "\n",
    "df_plot = pd.DataFrame({\n",
    "    'Episodes': range(len(p_loss_new)),\n",
    "    'Value Loss': v_loss_new,\n",
    "    'Policy Loss': p_loss_new\n",
    "})\n",
    "\n",
    "fig = px.line(\n",
    "    df_plot,\n",
    "    x='Episodes',\n",
    "    y=['Value Loss','Policy Loss'],\n",
    "    title='Policy Loss & Value Loss',\n",
    "    labels={'value':'Value','variable':'Series'},\n",
    "    color_discrete_sequence=['blue','red']\n",
    ")\n",
    "\n",
    "fig.show()"
   ]
  },
  {
   "cell_type": "code",
   "execution_count": null,
   "id": "911a2ac0",
   "metadata": {},
   "outputs": [
    {
     "data": {
      "application/vnd.plotly.v1+json": {
       "config": {
        "plotlyServerURL": "https://plot.ly"
       },
       "data": [
        {
         "hovertemplate": "Episodes=%{x}<br>Success_rate=%{y}<extra></extra>",
         "legendgroup": "",
         "line": {
          "color": "#636efa",
          "dash": "solid"
         },
         "marker": {
          "symbol": "circle"
         },
         "mode": "lines",
         "name": "",
         "orientation": "v",
         "showlegend": false,
         "type": "scatter",
         "x": [
          0,
          1,
          2,
          3,
          4,
          5,
          6,
          7,
          8,
          9,
          10,
          11,
          12,
          13,
          14,
          15,
          16,
          17,
          18,
          19,
          20,
          21,
          22,
          23,
          24,
          25,
          26,
          27,
          28,
          29,
          30,
          31,
          32,
          33,
          34,
          35,
          36,
          37,
          38,
          39,
          40,
          41,
          42,
          43,
          44,
          45,
          46,
          47,
          48,
          49,
          50,
          51,
          52,
          53,
          54,
          55,
          56,
          57,
          58,
          59,
          60,
          61,
          62,
          63,
          64,
          65,
          66,
          67,
          68,
          69,
          70,
          71,
          72,
          73,
          74,
          75,
          76,
          77,
          78,
          79,
          80,
          81,
          82,
          83,
          84,
          85,
          86,
          87,
          88,
          89,
          90,
          91,
          92,
          93,
          94,
          95,
          96,
          97,
          98,
          99,
          100,
          101,
          102,
          103,
          104,
          105,
          106,
          107,
          108,
          109,
          110,
          111,
          112,
          113,
          114,
          115,
          116,
          117,
          118,
          119,
          120,
          121,
          122,
          123,
          124,
          125,
          126,
          127,
          128,
          129,
          130,
          131,
          132,
          133,
          134,
          135,
          136,
          137,
          138,
          139,
          140,
          141,
          142,
          143,
          144,
          145,
          146,
          147,
          148,
          149,
          150,
          151,
          152,
          153,
          154,
          155,
          156,
          157,
          158,
          159,
          160,
          161,
          162,
          163,
          164,
          165,
          166,
          167,
          168,
          169,
          170,
          171,
          172,
          173,
          174,
          175,
          176,
          177,
          178,
          179,
          180,
          181,
          182,
          183,
          184,
          185,
          186,
          187,
          188,
          189,
          190,
          191,
          192,
          193,
          194,
          195,
          196,
          197,
          198,
          199,
          200,
          201,
          202,
          203,
          204,
          205,
          206,
          207,
          208,
          209,
          210,
          211,
          212,
          213,
          214,
          215,
          216,
          217,
          218,
          219,
          220,
          221,
          222,
          223,
          224,
          225,
          226,
          227,
          228,
          229,
          230,
          231,
          232,
          233,
          234,
          235,
          236,
          237,
          238,
          239,
          240,
          241,
          242,
          243,
          244,
          245,
          246,
          247,
          248,
          249,
          250,
          251,
          252,
          253,
          254,
          255,
          256,
          257,
          258,
          259,
          260,
          261,
          262,
          263,
          264,
          265,
          266,
          267,
          268,
          269,
          270,
          271,
          272,
          273,
          274,
          275,
          276,
          277,
          278,
          279,
          280,
          281,
          282,
          283,
          284,
          285,
          286,
          287,
          288,
          289,
          290,
          291,
          292,
          293,
          294,
          295,
          296,
          297,
          298,
          299,
          300,
          301,
          302,
          303,
          304,
          305,
          306,
          307,
          308,
          309,
          310,
          311,
          312,
          313,
          314,
          315,
          316,
          317,
          318,
          319,
          320,
          321,
          322,
          323,
          324,
          325,
          326,
          327,
          328,
          329,
          330,
          331,
          332,
          333,
          334,
          335,
          336,
          337,
          338,
          339,
          340,
          341,
          342,
          343,
          344,
          345,
          346,
          347,
          348,
          349,
          350,
          351,
          352,
          353,
          354,
          355,
          356,
          357,
          358,
          359,
          360,
          361,
          362,
          363,
          364,
          365,
          366,
          367,
          368,
          369,
          370,
          371,
          372,
          373,
          374,
          375,
          376,
          377,
          378,
          379,
          380,
          381,
          382,
          383,
          384,
          385,
          386,
          387,
          388,
          389,
          390,
          391,
          392,
          393,
          394,
          395,
          396,
          397,
          398,
          399,
          400,
          401,
          402,
          403,
          404,
          405,
          406,
          407,
          408,
          409,
          410,
          411,
          412,
          413,
          414,
          415,
          416,
          417,
          418,
          419,
          420,
          421,
          422,
          423,
          424,
          425,
          426,
          427,
          428,
          429,
          430,
          431,
          432,
          433,
          434,
          435,
          436,
          437,
          438,
          439,
          440,
          441,
          442,
          443,
          444,
          445,
          446,
          447,
          448,
          449,
          450,
          451,
          452,
          453,
          454,
          455,
          456,
          457,
          458,
          459,
          460,
          461,
          462,
          463,
          464,
          465,
          466,
          467,
          468,
          469,
          470,
          471,
          472,
          473,
          474,
          475,
          476,
          477,
          478,
          479,
          480,
          481,
          482,
          483,
          484,
          485,
          486,
          487,
          488,
          489,
          490,
          491,
          492,
          493,
          494,
          495,
          496,
          497,
          498,
          499,
          500,
          501,
          502,
          503,
          504,
          505,
          506,
          507,
          508,
          509,
          510,
          511,
          512,
          513,
          514,
          515,
          516,
          517,
          518,
          519,
          520,
          521,
          522,
          523,
          524,
          525,
          526,
          527,
          528,
          529,
          530,
          531,
          532,
          533,
          534,
          535,
          536,
          537,
          538,
          539,
          540,
          541,
          542,
          543,
          544,
          545,
          546,
          547,
          548,
          549,
          550,
          551,
          552,
          553,
          554,
          555,
          556,
          557,
          558,
          559,
          560,
          561,
          562,
          563,
          564,
          565,
          566,
          567,
          568,
          569,
          570,
          571,
          572,
          573,
          574,
          575,
          576,
          577,
          578,
          579,
          580,
          581,
          582,
          583,
          584,
          585,
          586,
          587,
          588,
          589,
          590,
          591,
          592,
          593,
          594,
          595,
          596,
          597,
          598,
          599
         ],
         "xaxis": "x",
         "y": [
          0.25,
          0.1875,
          0.1875,
          0.21875,
          0.25,
          0.1875,
          0.1875,
          0.125,
          0.25,
          0.40625,
          0.21875,
          0.3125,
          0.21875,
          0.25,
          0.28125,
          0.28125,
          0.15625,
          0.125,
          0.21875,
          0.25,
          0.28125,
          0.21875,
          0.34375,
          0.3125,
          0.21875,
          0.28125,
          0.25,
          0.40625,
          0.34375,
          0.3125,
          0.25,
          0.1875,
          0.28125,
          0.40625,
          0.25,
          0.28125,
          0.15625,
          0.21875,
          0.1875,
          0.1875,
          0.21875,
          0.25,
          0.1875,
          0.21875,
          0.40625,
          0.03125,
          0.21875,
          0.25,
          0.40625,
          0.3125,
          0.25,
          0.21875,
          0.1875,
          0.25,
          0.25,
          0.1875,
          0.28125,
          0.28125,
          0.25,
          0.28125,
          0.25,
          0.25,
          0.28125,
          0.15625,
          0.3125,
          0.25,
          0.1875,
          0.21875,
          0.4375,
          0.15625,
          0.21875,
          0.28125,
          0.0625,
          0.28125,
          0.3125,
          0.25,
          0.15625,
          0.21875,
          0.21875,
          0.34375,
          0.3125,
          0.28125,
          0.3125,
          0.28125,
          0.3125,
          0.25,
          0.15625,
          0.28125,
          0.15625,
          0.25,
          0.15625,
          0.21875,
          0.25,
          0.25,
          0.15625,
          0.1875,
          0.1875,
          0.25,
          0.28125,
          0.21875,
          0.1875,
          0.25,
          0.3125,
          0.15625,
          0.28125,
          0.25,
          0.4375,
          0.0625,
          0.21875,
          0.09375,
          0.15625,
          0.3125,
          0.125,
          0.21875,
          0.21875,
          0.28125,
          0.28125,
          0.1875,
          0.09375,
          0.3125,
          0.40625,
          0.28125,
          0.3125,
          0.1875,
          0.4375,
          0.3125,
          0.1875,
          0.125,
          0.28125,
          0.1875,
          0.15625,
          0.21875,
          0.34375,
          0.3125,
          0.0625,
          0.25,
          0.34375,
          0.1875,
          0.3125,
          0.1875,
          0.125,
          0.28125,
          0.1875,
          0.34375,
          0.34375,
          0.3125,
          0.25,
          0.25,
          0.28125,
          0.3125,
          0.15625,
          0.34375,
          0.28125,
          0.28125,
          0.21875,
          0.3125,
          0.28125,
          0.34375,
          0.25,
          0.1875,
          0.125,
          0.3125,
          0.21875,
          0.40625,
          0.375,
          0.125,
          0.21875,
          0.3125,
          0.21875,
          0.3125,
          0.15625,
          0.1875,
          0.28125,
          0.25,
          0.125,
          0.28125,
          0.25,
          0.1875,
          0.15625,
          0.3125,
          0.25,
          0.125,
          0.125,
          0.3125,
          0.1875,
          0.1875,
          0.375,
          0.3125,
          0.4375,
          0.125,
          0.28125,
          0.1875,
          0.34375,
          0.28125,
          0.125,
          0.1875,
          0.28125,
          0.21875,
          0.375,
          0.1875,
          0.46875,
          0.28125,
          0.25,
          0.21875,
          0.28125,
          0.1875,
          0.375,
          0.1875,
          0.21875,
          0.21875,
          0.25,
          0.1875,
          0.28125,
          0.1875,
          0.28125,
          0.1875,
          0.25,
          0.25,
          0.125,
          0.25,
          0.34375,
          0.21875,
          0.3125,
          0.3125,
          0.21875,
          0.3125,
          0.28125,
          0.3125,
          0.3125,
          0.1875,
          0.28125,
          0.125,
          0.15625,
          0.34375,
          0.28125,
          0.15625,
          0.28125,
          0.25,
          0.25,
          0.125,
          0.15625,
          0.25,
          0.1875,
          0.1875,
          0.28125,
          0.21875,
          0.3125,
          0.1875,
          0.3125,
          0.1875,
          0.28125,
          0.25,
          0.21875,
          0.21875,
          0.21875,
          0.28125,
          0.34375,
          0.4375,
          0.21875,
          0.1875,
          0.15625,
          0.09375,
          0.15625,
          0.375,
          0.25,
          0.3125,
          0.15625,
          0.1875,
          0.1875,
          0.21875,
          0.1875,
          0.21875,
          0.375,
          0.3125,
          0.3125,
          0.375,
          0.1875,
          0.28125,
          0.3125,
          0.40625,
          0.28125,
          0.21875,
          0.125,
          0.3125,
          0.28125,
          0.21875,
          0.21875,
          0.28125,
          0.15625,
          0.25,
          0.375,
          0.375,
          0.46875,
          0.21875,
          0.25,
          0.3125,
          0.21875,
          0.34375,
          0.25,
          0.28125,
          0.15625,
          0.1875,
          0.1875,
          0.21875,
          0.15625,
          0.1875,
          0.40625,
          0.3125,
          0.21875,
          0.3125,
          0.28125,
          0.34375,
          0.25,
          0.21875,
          0.21875,
          0.25,
          0.1875,
          0.3125,
          0.25,
          0.15625,
          0.3125,
          0.21875,
          0.09375,
          0.25,
          0.3125,
          0.34375,
          0.1875,
          0.25,
          0.25,
          0.34375,
          0.25,
          0.3125,
          0.125,
          0.28125,
          0.25,
          0.21875,
          0.5,
          0.28125,
          0.28125,
          0.21875,
          0.28125,
          0.40625,
          0.125,
          0.28125,
          0.125,
          0.1875,
          0.21875,
          0.1875,
          0.3125,
          0.03125,
          0.25,
          0.125,
          0.375,
          0.21875,
          0.28125,
          0.3125,
          0.125,
          0.25,
          0.21875,
          0.34375,
          0.09375,
          0.21875,
          0.1875,
          0.25,
          0.21875,
          0.25,
          0.3125,
          0.40625,
          0.25,
          0.28125,
          0.15625,
          0.375,
          0.09375,
          0.21875,
          0.25,
          0.28125,
          0.09375,
          0.28125,
          0.1875,
          0.46875,
          0.34375,
          0.21875,
          0.25,
          0.25,
          0.25,
          0.1875,
          0.3125,
          0.28125,
          0.3125,
          0.15625,
          0.25,
          0.21875,
          0.125,
          0.28125,
          0.1875,
          0.3125,
          0.34375,
          0.34375,
          0.25,
          0.375,
          0.21875,
          0.28125,
          0.21875,
          0.1875,
          0.1875,
          0.1875,
          0.21875,
          0.25,
          0.25,
          0.3125,
          0.21875,
          0.3125,
          0.1875,
          0.28125,
          0.21875,
          0.21875,
          0.1875,
          0.25,
          0.1875,
          0.25,
          0.25,
          0.3125,
          0.1875,
          0.28125,
          0.25,
          0.21875,
          0.53125,
          0.28125,
          0.1875,
          0.15625,
          0.0625,
          0.21875,
          0.375,
          0.25,
          0.25,
          0.21875,
          0.125,
          0.28125,
          0.3125,
          0.34375,
          0.28125,
          0.15625,
          0.28125,
          0.3125,
          0.3125,
          0.25,
          0.375,
          0.21875,
          0.1875,
          0.3125,
          0.21875,
          0.28125,
          0.34375,
          0.28125,
          0.34375,
          0.3125,
          0.34375,
          0.125,
          0.1875,
          0.1875,
          0.1875,
          0.28125,
          0.15625,
          0.25,
          0.21875,
          0.34375,
          0.21875,
          0.25,
          0.15625,
          0.3125,
          0.28125,
          0.25,
          0.21875,
          0.21875,
          0.25,
          0.21875,
          0.3125,
          0.21875,
          0.21875,
          0.28125,
          0.15625,
          0.21875,
          0.3125,
          0.28125,
          0.34375,
          0.28125,
          0.21875,
          0.25,
          0.0625,
          0.3125,
          0.28125,
          0.15625,
          0.34375,
          0.15625,
          0.25,
          0.1875,
          0.3125,
          0.15625,
          0.3125,
          0.25,
          0.1875,
          0.15625,
          0.1875,
          0.34375,
          0.28125,
          0.25,
          0.375,
          0.34375,
          0.3125,
          0.28125,
          0.15625,
          0.21875,
          0.1875,
          0.15625,
          0.25,
          0.375,
          0.21875,
          0.28125,
          0.125,
          0.1875,
          0.5,
          0.25,
          0.25,
          0.25,
          0.28125,
          0.21875,
          0.09375,
          0.25,
          0.21875,
          0.3125,
          0.28125,
          0.3125,
          0.34375,
          0.25,
          0.28125,
          0.375,
          0.3125,
          0.15625,
          0.375,
          0.28125,
          0.40625,
          0.21875,
          0.28125,
          0.34375,
          0.25,
          0.25,
          0.1875,
          0.21875,
          0.28125,
          0.40625,
          0.3125,
          0.15625,
          0.21875,
          0.1875,
          0.21875,
          0.34375,
          0.375,
          0.1875,
          0.21875,
          0.25,
          0.21875,
          0.15625,
          0.25,
          0.1875,
          0.21875,
          0.1875,
          0.1875,
          0.21875,
          0.3125,
          0.3125,
          0.15625,
          0.21875,
          0.1875,
          0.34375,
          0.25,
          0.3125,
          0.1875,
          0.34375,
          0.25,
          0.3125,
          0.40625,
          0.21875,
          0.15625,
          0.21875,
          0.21875,
          0.125,
          0.09375,
          0.1875,
          0.28125,
          0.25,
          0.40625,
          0.28125,
          0.28125,
          0.09375,
          0.1875,
          0.21875,
          0.25,
          0.25,
          0.1875,
          0.1875
         ],
         "yaxis": "y"
        }
       ],
       "layout": {
        "legend": {
         "tracegroupgap": 0
        },
        "template": {
         "data": {
          "bar": [
           {
            "error_x": {
             "color": "#2a3f5f"
            },
            "error_y": {
             "color": "#2a3f5f"
            },
            "marker": {
             "line": {
              "color": "#E5ECF6",
              "width": 0.5
             },
             "pattern": {
              "fillmode": "overlay",
              "size": 10,
              "solidity": 0.2
             }
            },
            "type": "bar"
           }
          ],
          "barpolar": [
           {
            "marker": {
             "line": {
              "color": "#E5ECF6",
              "width": 0.5
             },
             "pattern": {
              "fillmode": "overlay",
              "size": 10,
              "solidity": 0.2
             }
            },
            "type": "barpolar"
           }
          ],
          "carpet": [
           {
            "aaxis": {
             "endlinecolor": "#2a3f5f",
             "gridcolor": "white",
             "linecolor": "white",
             "minorgridcolor": "white",
             "startlinecolor": "#2a3f5f"
            },
            "baxis": {
             "endlinecolor": "#2a3f5f",
             "gridcolor": "white",
             "linecolor": "white",
             "minorgridcolor": "white",
             "startlinecolor": "#2a3f5f"
            },
            "type": "carpet"
           }
          ],
          "choropleth": [
           {
            "colorbar": {
             "outlinewidth": 0,
             "ticks": ""
            },
            "type": "choropleth"
           }
          ],
          "contour": [
           {
            "colorbar": {
             "outlinewidth": 0,
             "ticks": ""
            },
            "colorscale": [
             [
              0,
              "#0d0887"
             ],
             [
              0.1111111111111111,
              "#46039f"
             ],
             [
              0.2222222222222222,
              "#7201a8"
             ],
             [
              0.3333333333333333,
              "#9c179e"
             ],
             [
              0.4444444444444444,
              "#bd3786"
             ],
             [
              0.5555555555555556,
              "#d8576b"
             ],
             [
              0.6666666666666666,
              "#ed7953"
             ],
             [
              0.7777777777777778,
              "#fb9f3a"
             ],
             [
              0.8888888888888888,
              "#fdca26"
             ],
             [
              1,
              "#f0f921"
             ]
            ],
            "type": "contour"
           }
          ],
          "contourcarpet": [
           {
            "colorbar": {
             "outlinewidth": 0,
             "ticks": ""
            },
            "type": "contourcarpet"
           }
          ],
          "heatmap": [
           {
            "colorbar": {
             "outlinewidth": 0,
             "ticks": ""
            },
            "colorscale": [
             [
              0,
              "#0d0887"
             ],
             [
              0.1111111111111111,
              "#46039f"
             ],
             [
              0.2222222222222222,
              "#7201a8"
             ],
             [
              0.3333333333333333,
              "#9c179e"
             ],
             [
              0.4444444444444444,
              "#bd3786"
             ],
             [
              0.5555555555555556,
              "#d8576b"
             ],
             [
              0.6666666666666666,
              "#ed7953"
             ],
             [
              0.7777777777777778,
              "#fb9f3a"
             ],
             [
              0.8888888888888888,
              "#fdca26"
             ],
             [
              1,
              "#f0f921"
             ]
            ],
            "type": "heatmap"
           }
          ],
          "heatmapgl": [
           {
            "colorbar": {
             "outlinewidth": 0,
             "ticks": ""
            },
            "colorscale": [
             [
              0,
              "#0d0887"
             ],
             [
              0.1111111111111111,
              "#46039f"
             ],
             [
              0.2222222222222222,
              "#7201a8"
             ],
             [
              0.3333333333333333,
              "#9c179e"
             ],
             [
              0.4444444444444444,
              "#bd3786"
             ],
             [
              0.5555555555555556,
              "#d8576b"
             ],
             [
              0.6666666666666666,
              "#ed7953"
             ],
             [
              0.7777777777777778,
              "#fb9f3a"
             ],
             [
              0.8888888888888888,
              "#fdca26"
             ],
             [
              1,
              "#f0f921"
             ]
            ],
            "type": "heatmapgl"
           }
          ],
          "histogram": [
           {
            "marker": {
             "pattern": {
              "fillmode": "overlay",
              "size": 10,
              "solidity": 0.2
             }
            },
            "type": "histogram"
           }
          ],
          "histogram2d": [
           {
            "colorbar": {
             "outlinewidth": 0,
             "ticks": ""
            },
            "colorscale": [
             [
              0,
              "#0d0887"
             ],
             [
              0.1111111111111111,
              "#46039f"
             ],
             [
              0.2222222222222222,
              "#7201a8"
             ],
             [
              0.3333333333333333,
              "#9c179e"
             ],
             [
              0.4444444444444444,
              "#bd3786"
             ],
             [
              0.5555555555555556,
              "#d8576b"
             ],
             [
              0.6666666666666666,
              "#ed7953"
             ],
             [
              0.7777777777777778,
              "#fb9f3a"
             ],
             [
              0.8888888888888888,
              "#fdca26"
             ],
             [
              1,
              "#f0f921"
             ]
            ],
            "type": "histogram2d"
           }
          ],
          "histogram2dcontour": [
           {
            "colorbar": {
             "outlinewidth": 0,
             "ticks": ""
            },
            "colorscale": [
             [
              0,
              "#0d0887"
             ],
             [
              0.1111111111111111,
              "#46039f"
             ],
             [
              0.2222222222222222,
              "#7201a8"
             ],
             [
              0.3333333333333333,
              "#9c179e"
             ],
             [
              0.4444444444444444,
              "#bd3786"
             ],
             [
              0.5555555555555556,
              "#d8576b"
             ],
             [
              0.6666666666666666,
              "#ed7953"
             ],
             [
              0.7777777777777778,
              "#fb9f3a"
             ],
             [
              0.8888888888888888,
              "#fdca26"
             ],
             [
              1,
              "#f0f921"
             ]
            ],
            "type": "histogram2dcontour"
           }
          ],
          "mesh3d": [
           {
            "colorbar": {
             "outlinewidth": 0,
             "ticks": ""
            },
            "type": "mesh3d"
           }
          ],
          "parcoords": [
           {
            "line": {
             "colorbar": {
              "outlinewidth": 0,
              "ticks": ""
             }
            },
            "type": "parcoords"
           }
          ],
          "pie": [
           {
            "automargin": true,
            "type": "pie"
           }
          ],
          "scatter": [
           {
            "fillpattern": {
             "fillmode": "overlay",
             "size": 10,
             "solidity": 0.2
            },
            "type": "scatter"
           }
          ],
          "scatter3d": [
           {
            "line": {
             "colorbar": {
              "outlinewidth": 0,
              "ticks": ""
             }
            },
            "marker": {
             "colorbar": {
              "outlinewidth": 0,
              "ticks": ""
             }
            },
            "type": "scatter3d"
           }
          ],
          "scattercarpet": [
           {
            "marker": {
             "colorbar": {
              "outlinewidth": 0,
              "ticks": ""
             }
            },
            "type": "scattercarpet"
           }
          ],
          "scattergeo": [
           {
            "marker": {
             "colorbar": {
              "outlinewidth": 0,
              "ticks": ""
             }
            },
            "type": "scattergeo"
           }
          ],
          "scattergl": [
           {
            "marker": {
             "colorbar": {
              "outlinewidth": 0,
              "ticks": ""
             }
            },
            "type": "scattergl"
           }
          ],
          "scattermapbox": [
           {
            "marker": {
             "colorbar": {
              "outlinewidth": 0,
              "ticks": ""
             }
            },
            "type": "scattermapbox"
           }
          ],
          "scatterpolar": [
           {
            "marker": {
             "colorbar": {
              "outlinewidth": 0,
              "ticks": ""
             }
            },
            "type": "scatterpolar"
           }
          ],
          "scatterpolargl": [
           {
            "marker": {
             "colorbar": {
              "outlinewidth": 0,
              "ticks": ""
             }
            },
            "type": "scatterpolargl"
           }
          ],
          "scatterternary": [
           {
            "marker": {
             "colorbar": {
              "outlinewidth": 0,
              "ticks": ""
             }
            },
            "type": "scatterternary"
           }
          ],
          "surface": [
           {
            "colorbar": {
             "outlinewidth": 0,
             "ticks": ""
            },
            "colorscale": [
             [
              0,
              "#0d0887"
             ],
             [
              0.1111111111111111,
              "#46039f"
             ],
             [
              0.2222222222222222,
              "#7201a8"
             ],
             [
              0.3333333333333333,
              "#9c179e"
             ],
             [
              0.4444444444444444,
              "#bd3786"
             ],
             [
              0.5555555555555556,
              "#d8576b"
             ],
             [
              0.6666666666666666,
              "#ed7953"
             ],
             [
              0.7777777777777778,
              "#fb9f3a"
             ],
             [
              0.8888888888888888,
              "#fdca26"
             ],
             [
              1,
              "#f0f921"
             ]
            ],
            "type": "surface"
           }
          ],
          "table": [
           {
            "cells": {
             "fill": {
              "color": "#EBF0F8"
             },
             "line": {
              "color": "white"
             }
            },
            "header": {
             "fill": {
              "color": "#C8D4E3"
             },
             "line": {
              "color": "white"
             }
            },
            "type": "table"
           }
          ]
         },
         "layout": {
          "annotationdefaults": {
           "arrowcolor": "#2a3f5f",
           "arrowhead": 0,
           "arrowwidth": 1
          },
          "autotypenumbers": "strict",
          "coloraxis": {
           "colorbar": {
            "outlinewidth": 0,
            "ticks": ""
           }
          },
          "colorscale": {
           "diverging": [
            [
             0,
             "#8e0152"
            ],
            [
             0.1,
             "#c51b7d"
            ],
            [
             0.2,
             "#de77ae"
            ],
            [
             0.3,
             "#f1b6da"
            ],
            [
             0.4,
             "#fde0ef"
            ],
            [
             0.5,
             "#f7f7f7"
            ],
            [
             0.6,
             "#e6f5d0"
            ],
            [
             0.7,
             "#b8e186"
            ],
            [
             0.8,
             "#7fbc41"
            ],
            [
             0.9,
             "#4d9221"
            ],
            [
             1,
             "#276419"
            ]
           ],
           "sequential": [
            [
             0,
             "#0d0887"
            ],
            [
             0.1111111111111111,
             "#46039f"
            ],
            [
             0.2222222222222222,
             "#7201a8"
            ],
            [
             0.3333333333333333,
             "#9c179e"
            ],
            [
             0.4444444444444444,
             "#bd3786"
            ],
            [
             0.5555555555555556,
             "#d8576b"
            ],
            [
             0.6666666666666666,
             "#ed7953"
            ],
            [
             0.7777777777777778,
             "#fb9f3a"
            ],
            [
             0.8888888888888888,
             "#fdca26"
            ],
            [
             1,
             "#f0f921"
            ]
           ],
           "sequentialminus": [
            [
             0,
             "#0d0887"
            ],
            [
             0.1111111111111111,
             "#46039f"
            ],
            [
             0.2222222222222222,
             "#7201a8"
            ],
            [
             0.3333333333333333,
             "#9c179e"
            ],
            [
             0.4444444444444444,
             "#bd3786"
            ],
            [
             0.5555555555555556,
             "#d8576b"
            ],
            [
             0.6666666666666666,
             "#ed7953"
            ],
            [
             0.7777777777777778,
             "#fb9f3a"
            ],
            [
             0.8888888888888888,
             "#fdca26"
            ],
            [
             1,
             "#f0f921"
            ]
           ]
          },
          "colorway": [
           "#636efa",
           "#EF553B",
           "#00cc96",
           "#ab63fa",
           "#FFA15A",
           "#19d3f3",
           "#FF6692",
           "#B6E880",
           "#FF97FF",
           "#FECB52"
          ],
          "font": {
           "color": "#2a3f5f"
          },
          "geo": {
           "bgcolor": "white",
           "lakecolor": "white",
           "landcolor": "#E5ECF6",
           "showlakes": true,
           "showland": true,
           "subunitcolor": "white"
          },
          "hoverlabel": {
           "align": "left"
          },
          "hovermode": "closest",
          "mapbox": {
           "style": "light"
          },
          "paper_bgcolor": "white",
          "plot_bgcolor": "#E5ECF6",
          "polar": {
           "angularaxis": {
            "gridcolor": "white",
            "linecolor": "white",
            "ticks": ""
           },
           "bgcolor": "#E5ECF6",
           "radialaxis": {
            "gridcolor": "white",
            "linecolor": "white",
            "ticks": ""
           }
          },
          "scene": {
           "xaxis": {
            "backgroundcolor": "#E5ECF6",
            "gridcolor": "white",
            "gridwidth": 2,
            "linecolor": "white",
            "showbackground": true,
            "ticks": "",
            "zerolinecolor": "white"
           },
           "yaxis": {
            "backgroundcolor": "#E5ECF6",
            "gridcolor": "white",
            "gridwidth": 2,
            "linecolor": "white",
            "showbackground": true,
            "ticks": "",
            "zerolinecolor": "white"
           },
           "zaxis": {
            "backgroundcolor": "#E5ECF6",
            "gridcolor": "white",
            "gridwidth": 2,
            "linecolor": "white",
            "showbackground": true,
            "ticks": "",
            "zerolinecolor": "white"
           }
          },
          "shapedefaults": {
           "line": {
            "color": "#2a3f5f"
           }
          },
          "ternary": {
           "aaxis": {
            "gridcolor": "white",
            "linecolor": "white",
            "ticks": ""
           },
           "baxis": {
            "gridcolor": "white",
            "linecolor": "white",
            "ticks": ""
           },
           "bgcolor": "#E5ECF6",
           "caxis": {
            "gridcolor": "white",
            "linecolor": "white",
            "ticks": ""
           }
          },
          "title": {
           "x": 0.05
          },
          "xaxis": {
           "automargin": true,
           "gridcolor": "white",
           "linecolor": "white",
           "ticks": "",
           "title": {
            "standoff": 15
           },
           "zerolinecolor": "white",
           "zerolinewidth": 2
          },
          "yaxis": {
           "automargin": true,
           "gridcolor": "white",
           "linecolor": "white",
           "ticks": "",
           "title": {
            "standoff": 15
           },
           "zerolinecolor": "white",
           "zerolinewidth": 2
          }
         }
        },
        "title": {
         "text": "Success Rate Over Training Episodes"
        },
        "xaxis": {
         "anchor": "y",
         "domain": [
          0,
          1
         ],
         "title": {
          "text": "Episodes"
         }
        },
        "yaxis": {
         "anchor": "x",
         "domain": [
          0,
          1
         ],
         "title": {
          "text": "Success_rate"
         }
        }
       }
      }
     },
     "metadata": {},
     "output_type": "display_data"
    }
   ],
   "source": [
    "# Plotting Success Rate \n",
    "\n",
    "df_plot_sucess = pd.DataFrame({\n",
    "    'Episodes': range(len(success_r[::5])),\n",
    "    \"Success_rate\": success_r[::5]\n",
    "})\n",
    "\n",
    "fig_success = px.line(\n",
    "    df_plot_sucess,\n",
    "    x='Episodes',\n",
    "    y=\"Success_rate\",\n",
    "    title='Success Rate Over Training Episodes',\n",
    "    labels={'value':'Value','variable':'Series'},\n",
    "    # color_discrete_sequence=['blue','red']\n",
    ")\n",
    "\n",
    "fig_success.show()"
   ]
  },
  {
   "cell_type": "markdown",
   "id": "436f6461",
   "metadata": {},
   "source": [
    "### Evaluation using the above Trained Model"
   ]
  },
  {
   "cell_type": "markdown",
   "id": "c2e0ac2d",
   "metadata": {},
   "source": [
    "#### (i) Counteroffer over Multiple Negotiation Rounds"
   ]
  },
  {
   "cell_type": "code",
   "execution_count": null,
   "id": "ff316d64",
   "metadata": {},
   "outputs": [
    {
     "name": "stdout",
     "output_type": "stream",
     "text": [
      "\n",
      "Initial Selling Price: 1261\n",
      "\n",
      "Buyer proposes $948\n",
      " -> New state: Offer=948, Round=1\n",
      "\n",
      "Seller proposes $1087\n",
      " -> New state: Offer=1087, Round=2\n",
      "\n",
      "Buyer proposes $1009\n",
      " -> New state: Offer=1009, Round=3\n",
      "\n",
      "Seller proposes $1044\n",
      " -> New state: Offer=1044, Round=4\n",
      "\n",
      "Buyer accepts at $1044\n",
      " -> New state: Offer=1044, Round=4\n",
      "\n",
      "Final reward → buyer: -0.188   seller: 0.113\n",
      "Negotiation ended.\n",
      "\n"
     ]
    }
   ],
   "source": [
    "# Load checkpoint\n",
    "ckpt = torch.load(\"ppo_negotiation.pth\")\n",
    "policy_test = PPOPolicy(trial_env.observation_space.shape[0])\n",
    "\n",
    "#  Rebuild policy & load weights\n",
    "policy_test.load_state_dict(ckpt)\n",
    "policy_test.eval()\n",
    "\n",
    "# Recreate environment\n",
    "env_test = Negotiation_Agent(\n",
    "    seller_min_amt=700,\n",
    "    buyer_reservation_price=1200,\n",
    "    max_rounds=10\n",
    ")\n",
    "\n",
    "obs, done = env_test.reset(), False\n",
    "print(f\"\\nInitial Selling Price: {env_test.initial_selling_price}\\n\")\n",
    "\n",
    "with torch.no_grad():\n",
    "    while not done:\n",
    "        actor     = \"Buyer\" if env_test.turn == 0 else \"Seller\"\n",
    "        old_offer = env_test.current_offer\n",
    "\n",
    "        # normalize obs if your training did that, or pass raw obs if not\n",
    "        t = torch.tensor(obs, dtype=torch.float32)\n",
    "        action, _, _, _, _ = policy.get_action(t, env_test)\n",
    "\n",
    "        if isinstance(action, tuple):\n",
    "            print(f\"{actor} proposes ${action[1]}\")\n",
    "        elif action == 2:\n",
    "            print(f\"{actor} rejects at ${old_offer}\")\n",
    "\n",
    "        obs, reward, done, _ = env_test.step(action)\n",
    "\n",
    "        if action == 1 and done:\n",
    "            print(f\"{actor} accepts at ${old_offer}\")\n",
    "\n",
    "        print(f\" -> New state: Offer={obs[0]:.0f}, Round={int(obs[1])}\\n\")\n",
    "\n",
    "print(f\"Final reward → buyer: {reward['buyer']:.3f}   seller: {reward['seller']:.3f}\")\n",
    "print(\"Negotiation ended.\\n\")"
   ]
  },
  {
   "cell_type": "markdown",
   "id": "93cc6712",
   "metadata": {},
   "source": [
    "#### (ii) Buyer accepts the offer"
   ]
  },
  {
   "cell_type": "code",
   "execution_count": null,
   "id": "618cc372",
   "metadata": {},
   "outputs": [
    {
     "name": "stdout",
     "output_type": "stream",
     "text": [
      "\n",
      "Initial Selling Price: 1384\n",
      "\n",
      "Buyer proposes $975\n",
      " -> New state: Offer=975, Round=1\n",
      "\n",
      "Seller proposes $1140\n",
      " -> New state: Offer=1140, Round=2\n",
      "\n",
      "Buyer accepts at $1140\n",
      " -> New state: Offer=1140, Round=2\n",
      "\n",
      "Final reward → buyer: -0.380   seller: 0.143\n",
      "Negotiation ended.\n",
      "\n"
     ]
    }
   ],
   "source": [
    "#  Load checkpoint\n",
    "ckpt = torch.load(\"ppo_negotiation.pth\")\n",
    "policy_test = PPOPolicy(trial_env.observation_space.shape[0])\n",
    "\n",
    "#  Rebuild policy & load weights\n",
    "policy_test.load_state_dict(ckpt)\n",
    "policy_test.eval()\n",
    "\n",
    "#  Recreate environment\n",
    "env_test = Negotiation_Agent(\n",
    "    seller_min_amt=700,\n",
    "    buyer_reservation_price=1200,\n",
    "    max_rounds=10\n",
    ")\n",
    "\n",
    "obs, done = env_test.reset(), False\n",
    "print(f\"\\nInitial Selling Price: {env_test.initial_selling_price}\\n\")\n",
    "\n",
    "with torch.no_grad():\n",
    "    while not done:\n",
    "        actor     = \"Buyer\" if env_test.turn == 0 else \"Seller\"\n",
    "        old_offer = env_test.current_offer\n",
    "\n",
    "        # normalize obs if your training did that, or pass raw obs if not\n",
    "        t = torch.tensor(obs, dtype=torch.float32)\n",
    "        action, _, _, _, _ = policy.get_action(t, env_test)\n",
    "\n",
    "        if isinstance(action, tuple):\n",
    "            print(f\"{actor} proposes ${action[1]}\")\n",
    "        elif action == 2:\n",
    "            print(f\"{actor} rejects at ${old_offer}\")\n",
    "\n",
    "        obs, reward, done, _ = env_test.step(action)\n",
    "\n",
    "        if action == 1 and done:\n",
    "            print(f\"{actor} accepts at ${old_offer}\")\n",
    "\n",
    "        print(f\" -> New state: Offer={obs[0]:.0f}, Round={int(obs[1])}\\n\")\n",
    "\n",
    "print(f\"Final reward → buyer: {reward['buyer']:.3f}   seller: {reward['seller']:.3f}\")\n",
    "print(\"Negotiation ended.\\n\")"
   ]
  },
  {
   "cell_type": "markdown",
   "id": "fd7f7391",
   "metadata": {},
   "source": [
    "#### (iii) Buyer rejects the offer"
   ]
  },
  {
   "cell_type": "code",
   "execution_count": null,
   "id": "7cf3bd88",
   "metadata": {},
   "outputs": [
    {
     "name": "stdout",
     "output_type": "stream",
     "text": [
      "\n",
      "Initial Selling Price: 1708\n",
      "\n",
      "Buyer rejects at $1708\n",
      " -> New state: Offer=1708, Round=0\n",
      "\n",
      "Final reward → buyer: -5.000   seller: -5.000\n",
      "Negotiation ended.\n",
      "\n"
     ]
    }
   ],
   "source": [
    "#  Load checkpoint\n",
    "ckpt = torch.load(\"ppo_negotiation_weights.pth\")\n",
    "policy_test = PPOPolicy(trial_env.observation_space.shape[0])\n",
    "\n",
    "#  Rebuild policy & load weights\n",
    "policy_test.load_state_dict(ckpt['state.dict'])\n",
    "policy_test.eval()\n",
    "\n",
    "#  Recreate environment\n",
    "env_test = Negotiation_Agent(\n",
    "    seller_min_amt=700,\n",
    "    buyer_reservation_price=1200,\n",
    "    max_rounds=10\n",
    ")\n",
    "\n",
    "obs, done = env_test.reset(), False\n",
    "print(f\"\\nInitial Selling Price: {env_test.initial_selling_price}\\n\")\n",
    "\n",
    "with torch.no_grad():\n",
    "    while not done:\n",
    "        actor     = \"Buyer\" if env_test.turn == 0 else \"Seller\"\n",
    "        old_offer = env_test.current_offer\n",
    "\n",
    "        # normalize obs if your training did that, or pass raw obs if not\n",
    "        t = torch.tensor(obs, dtype=torch.float32)\n",
    "        action, _, _, _, _ = policy.get_action(t, env_test)\n",
    "\n",
    "        if isinstance(action, tuple):\n",
    "            print(f\"{actor} proposes ${action[1]}\")\n",
    "        elif action == 2:\n",
    "            print(f\"{actor} rejects at ${old_offer}\")\n",
    "\n",
    "        obs, reward, done, _ = env_test.step(action)\n",
    "\n",
    "        if action == 1 and done:\n",
    "            print(f\"{actor} accepts at ${old_offer}\")\n",
    "\n",
    "        print(f\" -> New state: Offer={obs[0]:.0f}, Round={int(obs[1])}\\n\")\n",
    "\n",
    "print(f\"Final reward → buyer: {reward['buyer']:.3f}   seller: {reward['seller']:.3f}\")\n",
    "print(\"Negotiation ended.\\n\")"
   ]
  }
 ],
 "metadata": {
  "kernelspec": {
   "display_name": "base",
   "language": "python",
   "name": "python3"
  },
  "language_info": {
   "codemirror_mode": {
    "name": "ipython",
    "version": 3
   },
   "file_extension": ".py",
   "mimetype": "text/x-python",
   "name": "python",
   "nbconvert_exporter": "python",
   "pygments_lexer": "ipython3",
   "version": "3.12.7"
  }
 },
 "nbformat": 4,
 "nbformat_minor": 5
}
